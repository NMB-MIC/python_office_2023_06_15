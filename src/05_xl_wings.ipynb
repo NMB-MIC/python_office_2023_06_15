{
 "cells": [
  {
   "cell_type": "markdown",
   "metadata": {},
   "source": [
    "## xlwings"
   ]
  },
  {
   "cell_type": "code",
   "execution_count": 45,
   "metadata": {},
   "outputs": [],
   "source": [
    "import xlwings as xw\n",
    "\n",
    "import datetime\n",
    "now = datetime.datetime.now()\n",
    "date_file_name = f'{str(now.date())}_{str(now.time()).split(\".\")[0].replace(\":\",\"_\")}'\n",
    "\n",
    "\n",
    "template = xw.Book()\n",
    "\n",
    "app = xw.apps.active\n",
    "sheet = template.sheets[\"Sheet1\"]\n",
    "sheet[\"A1\"].value = \"Import data with Xlwings\"\n",
    "\n",
    "template.sheets.add(\"Sheet2\")\n",
    "sheet_2 = template.sheets[\"Sheet2\"]\n",
    "sheet_2[\"B2\"].value = \"Import data with Xlwings_sheet2\"\n",
    "\n",
    "template.save(f\"export\\sample_xlwings_{date_file_name}.xlsx\")\n",
    "template.close()\n",
    "app.kill()"
   ]
  },
  {
   "cell_type": "code",
   "execution_count": 43,
   "metadata": {},
   "outputs": [
    {
     "name": "stdout",
     "output_type": "stream",
     "text": [
      "2023-06-16_14_39_42\n"
     ]
    }
   ],
   "source": [
    "import datetime\n",
    "now = datetime.datetime.now()\n",
    "\n",
    "date_file_name = f'{str(now.date())}_{str(now.time()).split(\".\")[0].replace(\":\",\"_\")}'\n",
    "print(date_file_name)\n",
    "#print(str(now.time()).split(\".\")[0].replace(\":\",\"_\"))"
   ]
  }
 ],
 "metadata": {
  "kernelspec": {
   "display_name": "Python 3.11.3 ('python_office')",
   "language": "python",
   "name": "python3"
  },
  "language_info": {
   "codemirror_mode": {
    "name": "ipython",
    "version": 3
   },
   "file_extension": ".py",
   "mimetype": "text/x-python",
   "name": "python",
   "nbconvert_exporter": "python",
   "pygments_lexer": "ipython3",
   "version": "3.11.3"
  },
  "orig_nbformat": 4,
  "vscode": {
   "interpreter": {
    "hash": "3389d59d6185bdb2743c68c14525b686a4ba489ad461a66dec884382969b346d"
   }
  }
 },
 "nbformat": 4,
 "nbformat_minor": 2
}
