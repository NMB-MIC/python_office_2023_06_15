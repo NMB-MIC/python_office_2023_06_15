{
 "cells": [
  {
   "cell_type": "markdown",
   "metadata": {},
   "source": [
    "## xlwings"
   ]
  },
  {
   "cell_type": "code",
   "execution_count": 52,
   "metadata": {},
   "outputs": [
    {
     "data": {
      "text/html": [
       "<div>\n",
       "<style scoped>\n",
       "    .dataframe tbody tr th:only-of-type {\n",
       "        vertical-align: middle;\n",
       "    }\n",
       "\n",
       "    .dataframe tbody tr th {\n",
       "        vertical-align: top;\n",
       "    }\n",
       "\n",
       "    .dataframe thead th {\n",
       "        text-align: right;\n",
       "    }\n",
       "</style>\n",
       "<table border=\"1\" class=\"dataframe\">\n",
       "  <thead>\n",
       "    <tr style=\"text-align: right;\">\n",
       "      <th>Region</th>\n",
       "      <th>East</th>\n",
       "      <th>West</th>\n",
       "      <th>North</th>\n",
       "      <th>South</th>\n",
       "    </tr>\n",
       "    <tr>\n",
       "      <th>Quaters</th>\n",
       "      <th></th>\n",
       "      <th></th>\n",
       "      <th></th>\n",
       "      <th></th>\n",
       "    </tr>\n",
       "  </thead>\n",
       "  <tbody>\n",
       "    <tr>\n",
       "      <th>Q1</th>\n",
       "      <td>65499.852631</td>\n",
       "      <td>44196.544797</td>\n",
       "      <td>33752.399459</td>\n",
       "      <td>22261.577997</td>\n",
       "    </tr>\n",
       "    <tr>\n",
       "      <th>Q2</th>\n",
       "      <td>62090.836531</td>\n",
       "      <td>46754.052307</td>\n",
       "      <td>5507.549965</td>\n",
       "      <td>28804.978128</td>\n",
       "    </tr>\n",
       "    <tr>\n",
       "      <th>Q3</th>\n",
       "      <td>65084.850743</td>\n",
       "      <td>29393.981304</td>\n",
       "      <td>97419.608275</td>\n",
       "      <td>91684.405209</td>\n",
       "    </tr>\n",
       "    <tr>\n",
       "      <th>Q4</th>\n",
       "      <td>52985.371144</td>\n",
       "      <td>72400.102199</td>\n",
       "      <td>66205.576983</td>\n",
       "      <td>27217.505625</td>\n",
       "    </tr>\n",
       "  </tbody>\n",
       "</table>\n",
       "</div>"
      ],
      "text/plain": [
       "Region           East          West         North         South\n",
       "Quaters                                                        \n",
       "Q1       65499.852631  44196.544797  33752.399459  22261.577997\n",
       "Q2       62090.836531  46754.052307   5507.549965  28804.978128\n",
       "Q3       65084.850743  29393.981304  97419.608275  91684.405209\n",
       "Q4       52985.371144  72400.102199  66205.576983  27217.505625"
      ]
     },
     "execution_count": 52,
     "metadata": {},
     "output_type": "execute_result"
    }
   ],
   "source": [
    "import pandas as pd\n",
    "import numpy as np\n",
    "data = pd.DataFrame(data=np.random.rand(4,4)*100000,\n",
    "index=[\"Q1\",\"Q2\",\"Q3\",\"Q4\"],\n",
    "columns=[\"East\",\"West\",\"North\",\"South\"])\n",
    "data.index.name = \"Quaters\"\n",
    "data.columns.name = \"Region\"\n",
    "data"
   ]
  },
  {
   "cell_type": "code",
   "execution_count": 53,
   "metadata": {},
   "outputs": [
    {
     "data": {
      "image/png": "[encoded data removed]",
      "text/plain": [
       "<Figure size 640x480 with 1 Axes>"
      ]
     },
     "metadata": {},
     "output_type": "display_data"
    }
   ],
   "source": [
    "import matplotlib.pyplot as plt\n",
    "fig = data.plot.bar().get_figure()"
   ]
  },
  {
   "cell_type": "code",
   "execution_count": 57,
   "metadata": {},
   "outputs": [],
   "source": [
    "import xlwings as xw\n",
    "\n",
    "import datetime\n",
    "now = datetime.datetime.now()\n",
    "date_file_name = f'{str(now.date())}_{str(now.time()).split(\".\")[0].replace(\":\",\"_\")}'\n",
    "\n",
    "\n",
    "template = xw.Book()\n",
    "\n",
    "app = xw.apps.active\n",
    "sheet = template.sheets[\"Sheet1\"]\n",
    "sheet[\"A1\"].value = \"Import data with Xlwings\"\n",
    "sheet[\"A1\"].api.Font.Bold = True\n",
    "sheet[\"A1\"].color = (78,59,201)\n",
    "sheet[\"A1\"].font.color = (255, 0, 0) \n",
    "sheet[\"E1\"].value = data\n",
    "#add picture\n",
    "plot= sheet.pictures.add(fig,top=sheet[\"B9\"].top,left=sheet[\"B9\"].left)\n",
    "plot.width = plot.width*0.8\n",
    "plot.height = plot.height*0.8\n",
    "\n",
    "template.sheets.add(\"Sheet2\")\n",
    "sheet_2 = template.sheets[\"Sheet2\"]\n",
    "sheet_2[\"B2\"].value = \"Import data with Xlwings_sheet2\"\n",
    "\n",
    "template.save(f\"export\\sample_xlwings_{date_file_name}.xlsx\")\n",
    "template.close()\n",
    "app.kill()"
   ]
  },
  {
   "cell_type": "code",
   "execution_count": 43,
   "metadata": {},
   "outputs": [
    {
     "name": "stdout",
     "output_type": "stream",
     "text": [
      "2023-06-16_14_39_42\n"
     ]
    }
   ],
   "source": [
    "# config date time to file name\n",
    "import datetime\n",
    "now = datetime.datetime.now()\n",
    "\n",
    "date_file_name = f'{str(now.date())}_{str(now.time()).split(\".\")[0].replace(\":\",\"_\")}'\n",
    "print(date_file_name)\n",
    "#print(str(now.time()).split(\".\")[0].replace(\":\",\"_\"))"
   ]
  },
  {
   "cell_type": "markdown",
   "metadata": {},
   "source": [
    "xlwiing template"
   ]
  },
  {
   "cell_type": "code",
   "execution_count": 59,
   "metadata": {},
   "outputs": [],
   "source": [
    "import xlwings as xw\n",
    "\n",
    "import datetime\n",
    "now = datetime.datetime.now()\n",
    "date_file_name = f'{str(now.date())}_{str(now.time()).split(\".\")[0].replace(\":\",\"_\")}'\n",
    "\n",
    "\n",
    "template = xw.Book(r\"D:\\My Documents\\Desktop\\python_office\\src\\data\\xl_wing_template.xlsx\")\n",
    "\n",
    "app = xw.apps.active\n",
    "sheet = template.sheets[\"Sheet1\"]\n",
    "sheet[\"A1\"].value = data\n",
    "\n",
    "#add picture\n",
    "plot= sheet.pictures.add(fig,top=sheet[\"I8\"].top,left=sheet[\"I8\"].left)\n",
    "plot.width = plot.width*0.8\n",
    "plot.height = plot.height*0.8\n",
    "\n",
    "template.save(f\"export\\sample_xlwings_template_{date_file_name}.xlsx\")\n",
    "template.close()\n",
    "app.kill()"
   ]
  }
 ],
 "metadata": {
  "kernelspec": {
   "display_name": "Python 3.11.3 ('python_office')",
   "language": "python",
   "name": "python3"
  },
  "language_info": {
   "codemirror_mode": {
    "name": "ipython",
    "version": 3
   },
   "file_extension": ".py",
   "mimetype": "text/x-python",
   "name": "python",
   "nbconvert_exporter": "python",
   "pygments_lexer": "ipython3",
   "version": "3.11.3"
  },
  "orig_nbformat": 4,
  "vscode": {
   "interpreter": {
    "hash": "3389d59d6185bdb2743c68c14525b686a4ba489ad461a66dec884382969b346d"
   }
  }
 },
 "nbformat": 4,
 "nbformat_minor": 2
}
