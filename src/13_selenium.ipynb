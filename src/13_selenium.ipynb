{
 "cells": [
  {
   "cell_type": "markdown",
   "metadata": {},
   "source": [
    "## selenuim"
   ]
  },
  {
   "cell_type": "code",
   "execution_count": 2,
   "metadata": {},
   "outputs": [],
   "source": [
    "#!pip install selenium"
   ]
  },
  {
   "cell_type": "code",
   "execution_count": 16,
   "metadata": {},
   "outputs": [],
   "source": [
    "from selenium import webdriver\n",
    "from selenium.webdriver.common.keys import Keys\n",
    "from selenium.webdriver.common.by import By\n",
    "from selenium.webdriver.support.ui import Select\n",
    "from selenium.webdriver.support import expected_conditions as EC\n",
    "from selenium.webdriver.chrome.options import Options\n",
    "from selenium.webdriver.common.keys import Keys\n",
    "import os,glob\n",
    "from datetime import date\n",
    "import datetime\n",
    "import time\n",
    "\n",
    "def get_last_filename_and_rename(save_folder, new_filename):\n",
    "    files = glob.glob(save_folder + '/*')\n",
    "    max_file = max(files, key=os.path.getctime)\n",
    "    filename = max_file.split(\"/\")[-1].split(\".\")[0]\n",
    "    new_path = max_file.replace(filename, new_filename)\n",
    "    new_path = save_folder+\"\\\\\"+new_path\n",
    "    os.rename(max_file, new_path)\n",
    "    return new_path\n",
    "    \n",
    "today = date.today()\n",
    "now = datetime.datetime.now()\n",
    "now = str(now.time()).split(\".\")[0].replace(\":\",\"_\")\n"
   ]
  },
  {
   "cell_type": "code",
   "execution_count": 15,
   "metadata": {},
   "outputs": [],
   "source": [
    "path_to_extension = r'D:\\My Documents\\Desktop\\python_office\\extensions\\1.50.0_0'\n",
    "\n",
    "chrome_options = Options()\n",
    "chrome_options.add_experimental_option(\"prefs\", {\n",
    "  \"download.default_directory\": r\"D:\\data\"\n",
    "})\n",
    "chrome_options.add_argument('load-extension='+path_to_extension)\n",
    "driver = webdriver.Chrome(options=chrome_options)\n",
    "time.sleep(3)\n",
    "driver.get(\"http://file-examples.com/\")\n",
    "\n",
    "sample_doc = driver.find_element(By.ID,'menu-item-27')\n",
    "sample_doc.click()\n",
    "\n",
    "xls_url = driver.find_element(By.XPATH,'//*[@id=\"table-files\"]/tbody/tr[2]/td[3]/a')\n",
    "xls_url.click()\n",
    "\n",
    "download_xls_url = driver.find_element(By.XPATH,'//*[@id=\"table-files\"]/tbody/tr[1]/td[5]/a')\n",
    "download_xls_url.click()\n",
    "\n",
    "get_last_filename_and_rename(r\"D:\\data\",f\"xls_data_from_selenuim_{str(today)}_{now}\")\n",
    "\n",
    "driver.close()"
   ]
  }
 ],
 "metadata": {
  "kernelspec": {
   "display_name": "Python 3.11.3 ('python_office')",
   "language": "python",
   "name": "python3"
  },
  "language_info": {
   "codemirror_mode": {
    "name": "ipython",
    "version": 3
   },
   "file_extension": ".py",
   "mimetype": "text/x-python",
   "name": "python",
   "nbconvert_exporter": "python",
   "pygments_lexer": "ipython3",
   "version": "3.11.3"
  },
  "orig_nbformat": 4,
  "vscode": {
   "interpreter": {
    "hash": "3389d59d6185bdb2743c68c14525b686a4ba489ad461a66dec884382969b346d"
   }
  }
 },
 "nbformat": 4,
 "nbformat_minor": 2
}
