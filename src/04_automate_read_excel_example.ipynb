{
 "cells": [
  {
   "cell_type": "markdown",
   "metadata": {},
   "source": [
    "## Excel to report"
   ]
  },
  {
   "cell_type": "code",
   "execution_count": null,
   "metadata": {},
   "outputs": [],
   "source": [
    "# read file path\n",
    "import os\n",
    "import datetime\n",
    "import pandas as pd\n",
    "\n",
    "today = datetime.date.today()\n",
    "year = today.year-1\n",
    "\n",
    "path = os.getcwd() + \"\\data\\sales_data\" # change to my floder name\n",
    "\n",
    "xlxs_file_lists = []\n",
    "\n",
    "for root,dirs,files in os.walk(path):\n",
    "      for name in files:\n",
    "        file_path = os.path.join(root,name)\n",
    "        #print(file_path.split(\"\\\\\")[-2])\n",
    "        if file_path.split(\"\\\\\")[-2] == str(year): #change filter\n",
    "            xlxs_file_lists.append(file_path)\n",
    "xlxs_file_lists"
   ]
  },
  {
   "cell_type": "code",
   "execution_count": null,
   "metadata": {},
   "outputs": [],
   "source": [
    "#export to dataframe\n",
    "dfs = []\n",
    "for f in xlxs_file_lists:\n",
    "  #print(f.split(\"\\\\\")[-1])\n",
    "  df = pd.read_excel(f)\n",
    "  df[\"file_name\"] = f.split(\"\\\\\")[-1]\n",
    "  df[\"year\"] = file_path.split(\"\\\\\")[-2]\n",
    "  df[\"amount_10x\"] = df[\"amount\"]*10\n",
    "  dfs.append(df)\n",
    "dfs"
   ]
  },
  {
   "cell_type": "code",
   "execution_count": null,
   "metadata": {},
   "outputs": [],
   "source": [
    "dfs_summary = pd.concat(dfs)"
   ]
  },
  {
   "cell_type": "code",
   "execution_count": null,
   "metadata": {},
   "outputs": [],
   "source": [
    "dfs_summary"
   ]
  },
  {
   "cell_type": "code",
   "execution_count": null,
   "metadata": {},
   "outputs": [],
   "source": [
    "dfs_summary.info()"
   ]
  },
  {
   "cell_type": "code",
   "execution_count": null,
   "metadata": {},
   "outputs": [],
   "source": [
    "dfs_summary.nunique()"
   ]
  },
  {
   "cell_type": "code",
   "execution_count": null,
   "metadata": {},
   "outputs": [],
   "source": [
    "dfs_summary[\"plan\"].unique()"
   ]
  },
  {
   "cell_type": "code",
   "execution_count": null,
   "metadata": {},
   "outputs": [],
   "source": [
    "dfs_summary.describe()"
   ]
  },
  {
   "cell_type": "code",
   "execution_count": null,
   "metadata": {},
   "outputs": [],
   "source": [
    "dfs_summary.head(5)"
   ]
  },
  {
   "cell_type": "code",
   "execution_count": null,
   "metadata": {},
   "outputs": [],
   "source": [
    "dfs_summary.tail(5)"
   ]
  },
  {
   "cell_type": "code",
   "execution_count": null,
   "metadata": {},
   "outputs": [],
   "source": [
    "dfs_summary"
   ]
  },
  {
   "cell_type": "code",
   "execution_count": null,
   "metadata": {},
   "outputs": [],
   "source": [
    "pivot = pd.pivot_table(dfs_summary,index=\"transaction_date\",columns=\"store\",values=\"amount\",aggfunc=\"sum\")\n",
    "pivot"
   ]
  },
  {
   "cell_type": "code",
   "execution_count": null,
   "metadata": {},
   "outputs": [],
   "source": [
    "summary_monthly = pivot.resample(\"M\").sum()\n",
    "summary_monthly"
   ]
  },
  {
   "cell_type": "code",
   "execution_count": null,
   "metadata": {},
   "outputs": [],
   "source": [
    "#!pip install matplotlib\n",
    "import matplotlib"
   ]
  },
  {
   "cell_type": "code",
   "execution_count": null,
   "metadata": {},
   "outputs": [],
   "source": [
    "fig = summary_monthly.plot(kind=\"bar\",figsize=(20,12),fontsize=26,title=\"daily summary amount\").get_figure()"
   ]
  },
  {
   "cell_type": "markdown",
   "metadata": {},
   "source": [
    "xlwings for excel"
   ]
  },
  {
   "cell_type": "code",
   "execution_count": null,
   "metadata": {},
   "outputs": [],
   "source": [
    "#!pip install xlwings"
   ]
  },
  {
   "cell_type": "code",
   "execution_count": null,
   "metadata": {},
   "outputs": [],
   "source": [
    "import xlwings as xw"
   ]
  },
  {
   "cell_type": "code",
   "execution_count": null,
   "metadata": {},
   "outputs": [],
   "source": [
    "import xlwings as xw\n",
    "\n",
    "import datetime\n",
    "now = datetime.datetime.now()\n",
    "date_file_name = f'{str(now.date())}_{str(now.time()).split(\".\")[0].replace(\":\",\"_\")}'\n",
    "\n",
    "\n",
    "template = xw.Book(r\"D:\\My Documents\\Desktop\\python_office\\src\\data\\sale_template.xlsx\")\n",
    "\n",
    "app = xw.apps.active\n",
    "sheet = template.sheets[\"summary\"]\n",
    "sheet[\"A1\"].value = summary_monthly\n",
    "\n",
    "pivote = template.sheets[\"pivot\"]\n",
    "pivote[\"A1\"].value = pivot\n",
    "\n",
    "#add picture\n",
    "sheet_report = template.sheets[\"report\"]\n",
    "sheet_report[\"A1\"].value = \"Summary by month\"\n",
    "sheet_report['A1'].font.size = 24\n",
    "sheet_report[\"A1\"].api.Font.Bold = True\n",
    "plot= sheet_report.pictures.add(fig,top=sheet[\"A3\"].top,left=sheet[\"A3\"].left)\n",
    "plot.width = plot.width*0.8\n",
    "plot.height = plot.height*0.8\n",
    "\n",
    "template.save(f\"export\\summary_sale_report_{date_file_name}.xlsx\")\n",
    "template.close()\n",
    "app.kill()"
   ]
  },
  {
   "cell_type": "markdown",
   "metadata": {},
   "source": [
    "#### script node-red\n",
    "conda activate python_office && python \"D:\\My Documents\\Desktop\\python_office\\src\\sale_report_script.py\"\n",
    "\n",
    "#### install pm2\n",
    "- npm install -g pm2 \n",
    "- pm2 status\n",
    "- pm2 start C:\\Users\\<User>\\AppData\\Roaming\\npm\\node_modules\\node-red\\red.js\n",
    "- pm2 start C:\\Users\\lbj6639\\AppData\\Roaming\\npm\\node_modules\\node-red\\red.js\n",
    "- npm install pm2-windows-startup -g\n",
    "- pm2-startup install\n",
    "- pm2 save"
   ]
  },
  {
   "cell_type": "markdown",
   "metadata": {},
   "source": [
    "#### send email"
   ]
  },
  {
   "cell_type": "code",
   "execution_count": null,
   "metadata": {},
   "outputs": [],
   "source": [
    "#!pip install email"
   ]
  },
  {
   "cell_type": "code",
   "execution_count": null,
   "metadata": {},
   "outputs": [],
   "source": [
    "import smtplib\n",
    "from email.mime.multipart import MIMEMultipart\n",
    "from email.mime.base import MIMEBase\n",
    "from email import encoders\n",
    "from email.mime.text import MIMEText\n",
    "\n",
    "from datetime import date\n",
    "\n",
    "today = date.today()\n",
    "\n",
    "send_from = 'devops.mic@gmail.com'\n",
    "#send_to = 'devops.mic@gmail.com'\n",
    "send_to = ['suraphop.b@minebea.co.th','devops.mic@gmail.com']\n",
    "subject = f\"sale summary report {today}\"\n",
    "text = f'''<html>\n",
    "        <head><b>Dear sir</b></head>\n",
    "        <body>\n",
    "            <div>\n",
    "              I would like to report summary sale result with a attach file as below\n",
    "            </div>\n",
    "            <p>Suraphop Bunsawat<br>MIC division<br>Tel: 2236</p><br>\n",
    "            <div>\n",
    "            <i>a attactfile</i>\n",
    "            </div>\n",
    "        </body>\n",
    "    </html>'''\n",
    "\n",
    "files = f\"export\\summary_sale_report_{date_file_name}.xlsx\"\n",
    "file_name_1 = f\"summary_sale_report_{date_file_name}_1.xlsx\"\n",
    "file_name_2 = f\"summary_sale_report_{date_file_name}_2.xlsx\"\n",
    "file_name_3 = f\"summary_sale_report_{date_file_name}_3.xlsx\"\n",
    "\n",
    "username = 'devops.mic@gmail.com'\n",
    "password = 'knhxhmritpsyqbjc'\n",
    "\n",
    "msg = MIMEMultipart()\n",
    "msg['Subject'] = subject \n",
    "msg['From'] = send_from\n",
    "msg['To'] = ', '.join(send_to)\n",
    "\n",
    "msg.attach(MIMEText(text,'html'))\n",
    "\n",
    "part = MIMEBase('application', \"octet-stream\")\n",
    "with open(files, 'rb') as f:\n",
    "    file = f.read()\n",
    "part.set_payload(file)\n",
    "encoders.encode_base64(part)    \n",
    "part.add_header('Content-Disposition', f'attachment; filename=\"{file_name_1}\"')\n",
    "msg.attach(part)\n",
    "\n",
    "part2 = MIMEBase('application', \"octet-stream\")\n",
    "with open(files, 'rb') as f:\n",
    "    file = f.read()\n",
    "part2.set_payload(file)\n",
    "encoders.encode_base64(part2)    \n",
    "part2.add_header('Content-Disposition', f'attachment; filename=\"{file_name_2}\"')\n",
    "msg.attach(part2)\n",
    "\n",
    "part3 = MIMEBase('application', \"octet-stream\")\n",
    "with open(files, 'rb') as f:\n",
    "    file = f.read()\n",
    "part3.set_payload(file)\n",
    "encoders.encode_base64(part3)    \n",
    "part3.add_header('Content-Disposition', f'attachment; filename=\"{file_name_3}\"')\n",
    "msg.attach(part3)\n",
    "\n",
    "server = smtplib.SMTP(\"smtp.gmail.com\", 587)\n",
    "server.ehlo()\n",
    "server.starttls()\n",
    "server.login(username, password)\n",
    "server.sendmail(send_from,send_to, msg.as_string())"
   ]
  },
  {
   "cell_type": "markdown",
   "metadata": {},
   "source": [
    "#### Line notify"
   ]
  },
  {
   "cell_type": "code",
   "execution_count": null,
   "metadata": {},
   "outputs": [],
   "source": [
    "#!pip install requests"
   ]
  },
  {
   "cell_type": "code",
   "execution_count": 44,
   "metadata": {},
   "outputs": [
    {
     "data": {
      "text/plain": [
       "'{\"status\":200,\"message\":\"ok\"}'"
      ]
     },
     "execution_count": 44,
     "metadata": {},
     "output_type": "execute_result"
    }
   ],
   "source": [
    "import requests\n",
    "  \n",
    "def line_notify(token,msg):\n",
    "    try:\n",
    "        url = 'https://notify-api.line.me/api/notify'\n",
    "        headers = {'content-type':'application/x-www-form-urlencoded','Authorization':'Bearer '+token}\n",
    "        r = requests.post(url, headers=headers, data = {'message':msg})\n",
    "        return r.text\n",
    "    except Exception as e:\n",
    "        return e\n",
    "msg = f'''ส่งรายงานเรื่อง {subject} ไปที่ \n",
    "{send_to[0]} และ {send_to[1]}'''\n",
    "line_notify(\"4ZiC8AcMDJANba4a8pLAEcJkb4v07kpVW8DzaGKWtBU\",msg)"
   ]
  }
 ],
 "metadata": {
  "kernelspec": {
   "display_name": "Python 3.11.3 ('python_office')",
   "language": "python",
   "name": "python3"
  },
  "language_info": {
   "codemirror_mode": {
    "name": "ipython",
    "version": 3
   },
   "file_extension": ".py",
   "mimetype": "text/x-python",
   "name": "python",
   "nbconvert_exporter": "python",
   "pygments_lexer": "ipython3",
   "version": "3.11.3"
  },
  "orig_nbformat": 4,
  "vscode": {
   "interpreter": {
    "hash": "3389d59d6185bdb2743c68c14525b686a4ba489ad461a66dec884382969b346d"
   }
  }
 },
 "nbformat": 4,
 "nbformat_minor": 2
}
