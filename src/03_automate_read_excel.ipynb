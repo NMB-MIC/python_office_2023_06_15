{
 "cells": [
  {
   "cell_type": "markdown",
   "metadata": {},
   "source": [
    "## Automate read excel"
   ]
  },
  {
   "cell_type": "code",
   "execution_count": null,
   "metadata": {},
   "outputs": [],
   "source": [
    "import pandas as pd"
   ]
  },
  {
   "cell_type": "code",
   "execution_count": null,
   "metadata": {},
   "outputs": [],
   "source": [
    "df = pd.read_excel(r\"D:\\My Documents\\Desktop\\python_office\\src\\data\\sales_data\\2022\\January.xlsx\")\n",
    "df"
   ]
  },
  {
   "cell_type": "markdown",
   "metadata": {},
   "source": [
    "read multiple excel file"
   ]
  },
  {
   "cell_type": "code",
   "execution_count": null,
   "metadata": {},
   "outputs": [],
   "source": [
    "import os\n",
    "path = os.getcwd() + \"\\data\\sales_data\"\n",
    "\n",
    "xlxs_file_lists = []\n",
    "\n",
    "for root,dirs,files in os.walk(path):\n",
    "      #print(root)\n",
    "      #print(dirs)\n",
    "      #print(files)\n",
    "      for name in files:\n",
    "        file_path = os.path.join(root,name)\n",
    "        xlxs_file_lists.append(file_path)\n",
    "        #print(file_path)\n",
    "xlxs_file_lists"
   ]
  },
  {
   "cell_type": "code",
   "execution_count": null,
   "metadata": {},
   "outputs": [],
   "source": [
    "msg = \"d:\\\\My Documents\\\\Desktop\\\\python_office\\\\src\\\\data\\\\sales_data\\\\2021\\\\April.xlsx\"\n",
    "print(msg.split(\"\\\\\"))\n",
    "msg.split(\"\\\\\")[-2]"
   ]
  },
  {
   "cell_type": "code",
   "execution_count": null,
   "metadata": {},
   "outputs": [],
   "source": [
    "for f in xlxs_file_lists:\n",
    "    if f.split(\"\\\\\")[-2] == \"2022\":\n",
    "        print(f)"
   ]
  },
  {
   "cell_type": "code",
   "execution_count": null,
   "metadata": {},
   "outputs": [],
   "source": [
    "for f in xlxs_file_lists:\n",
    "    if f.split(\"\\\\\")[-1] == \"April.xlsx\":\n",
    "        print(f)"
   ]
  },
  {
   "cell_type": "code",
   "execution_count": null,
   "metadata": {},
   "outputs": [],
   "source": [
    "for f in xlxs_file_lists:\n",
    "    #print(f.split(\"\\\\\")[-1].split(\".\")[0])\n",
    "    if f.split(\"\\\\\")[-1].split(\".\")[0] == \"April\":\n",
    "        print(f)"
   ]
  },
  {
   "cell_type": "code",
   "execution_count": null,
   "metadata": {},
   "outputs": [],
   "source": [
    "for f in xlxs_file_lists:\n",
    "    if f.split(\"\\\\\")[-2] == \"2022\":\n",
    "        if f.split(\"\\\\\")[-1].split(\".\")[0] == \"April\":\n",
    "          print(f)"
   ]
  },
  {
   "cell_type": "code",
   "execution_count": null,
   "metadata": {},
   "outputs": [],
   "source": [
    "import datetime\n",
    "\n",
    "today = datetime.date.today()\n",
    "year = today.year-1\n",
    "# print(type(year))\n",
    "# print(type(f.split(\"\\\\\")[-2]))\n",
    "\n",
    "for f in xlxs_file_lists:\n",
    "    if f.split(\"\\\\\")[-2] == str(year):\n",
    "        if f.split(\"\\\\\")[-1].split(\".\")[0] == \"April\":\n",
    "          print(f)"
   ]
  },
  {
   "cell_type": "code",
   "execution_count": null,
   "metadata": {},
   "outputs": [],
   "source": [
    "for f in xlxs_file_lists:\n",
    "  df = pd.read_excel(f)\n",
    "  print(df)"
   ]
  },
  {
   "cell_type": "code",
   "execution_count": null,
   "metadata": {},
   "outputs": [],
   "source": [
    "xlxs_file_only_april_lists = []\n",
    "\n",
    "for f in xlxs_file_lists:\n",
    "    if f.split(\"\\\\\")[-1].split(\".\")[0] == \"April\":\n",
    "        #print(f)\n",
    "        xlxs_file_only_april_lists.append(f)\n",
    "xlxs_file_only_april_lists"
   ]
  },
  {
   "cell_type": "code",
   "execution_count": null,
   "metadata": {},
   "outputs": [],
   "source": [
    "for f in xlxs_file_only_april_lists:\n",
    "  df = pd.read_excel(f)\n",
    "  print(df)"
   ]
  }
 ],
 "metadata": {
  "kernelspec": {
   "display_name": "Python 3.11.3 ('python_office')",
   "language": "python",
   "name": "python3"
  },
  "language_info": {
   "codemirror_mode": {
    "name": "ipython",
    "version": 3
   },
   "file_extension": ".py",
   "mimetype": "text/x-python",
   "name": "python",
   "nbconvert_exporter": "python",
   "pygments_lexer": "ipython3",
   "version": "3.11.3"
  },
  "orig_nbformat": 4,
  "vscode": {
   "interpreter": {
    "hash": "3389d59d6185bdb2743c68c14525b686a4ba489ad461a66dec884382969b346d"
   }
  }
 },
 "nbformat": 4,
 "nbformat_minor": 2
}
