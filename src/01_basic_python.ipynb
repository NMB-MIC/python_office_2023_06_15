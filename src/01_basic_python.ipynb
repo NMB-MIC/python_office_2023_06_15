{
 "cells": [
  {
   "cell_type": "markdown",
   "metadata": {},
   "source": [
    "## Basic python"
   ]
  },
  {
   "cell_type": "markdown",
   "metadata": {},
   "source": [
    "#### Variables"
   ]
  },
  {
   "cell_type": "code",
   "execution_count": 3,
   "metadata": {},
   "outputs": [
    {
     "name": "stdout",
     "output_type": "stream",
     "text": [
      "hello world\n",
      "hello world\n",
      "hello world python\n"
     ]
    }
   ],
   "source": [
    "print(\"hello world\")\n",
    "\n",
    "msg = \"hello world\"\n",
    "print(msg)\n",
    "\n",
    "msg = \"hello world python\"\n",
    "print(msg)"
   ]
  },
  {
   "cell_type": "code",
   "execution_count": 4,
   "metadata": {},
   "outputs": [],
   "source": [
    "name = \"suraphop\"\n",
    "frist_name = \"suraphop\""
   ]
  },
  {
   "cell_type": "code",
   "execution_count": 5,
   "metadata": {},
   "outputs": [],
   "source": [
    "#example employee number\n",
    "\n",
    "employee_number = \"J6639\"\n",
    "emp_number = \"J6639\"\n",
    "emp_no = \"J6639\"\n",
    "emp = \"J6639\""
   ]
  },
  {
   "cell_type": "code",
   "execution_count": 15,
   "metadata": {},
   "outputs": [],
   "source": [
    "#1name = \"suraphop\"\n",
    "#name_1 = \"suraphop\"\n",
    "#name-1 \"suraphop\"\n",
    "#$name = \"suraphop\""
   ]
  },
  {
   "cell_type": "markdown",
   "metadata": {},
   "source": [
    "#### Data type"
   ]
  },
  {
   "cell_type": "markdown",
   "metadata": {},
   "source": [
    "String"
   ]
  },
  {
   "cell_type": "code",
   "execution_count": 27,
   "metadata": {},
   "outputs": [
    {
     "name": "stdout",
     "output_type": "stream",
     "text": [
      "This 's easy to learn python\n",
      "This \"s easy to learn python\n"
     ]
    },
    {
     "data": {
      "text/plain": [
       "str"
      ]
     },
     "execution_count": 27,
     "metadata": {},
     "output_type": "execute_result"
    }
   ],
   "source": [
    "msg = \"Hello world\"\n",
    "msg = 'Hello world'\n",
    "\n",
    "print(\"This 's easy to learn python\")\n",
    "print('This \"s easy to learn python')\n",
    "\n",
    "type(msg)"
   ]
  },
  {
   "cell_type": "code",
   "execution_count": 42,
   "metadata": {},
   "outputs": [
    {
     "name": "stdout",
     "output_type": "stream",
     "text": [
      "helloworld\n",
      "hello world\n",
      "hello world python\n",
      "hello world python\n",
      "hello world python\n"
     ]
    }
   ],
   "source": [
    "msg1 = \"hello\"\n",
    "msg2 = \"world\"\n",
    "\n",
    "print(msg1+msg2)\n",
    "print(msg1+\" \"+msg2)\n",
    "print(msg1+\" \"+msg2+\" python\")\n",
    "print(f\"{msg1} {msg2} python\")\n",
    "print(f'{msg1} {msg2} python')"
   ]
  },
  {
   "cell_type": "code",
   "execution_count": 43,
   "metadata": {},
   "outputs": [
    {
     "data": {
      "text/plain": [
       "'PYTHON'"
      ]
     },
     "execution_count": 43,
     "metadata": {},
     "output_type": "execute_result"
    }
   ],
   "source": [
    "\"PYTHON\".lower()\n",
    "\"python\".upper()"
   ]
  }
 ],
 "metadata": {
  "kernelspec": {
   "display_name": "Python 3.11.3 ('python_office')",
   "language": "python",
   "name": "python3"
  },
  "language_info": {
   "codemirror_mode": {
    "name": "ipython",
    "version": 3
   },
   "file_extension": ".py",
   "mimetype": "text/x-python",
   "name": "python",
   "nbconvert_exporter": "python",
   "pygments_lexer": "ipython3",
   "version": "3.11.3"
  },
  "orig_nbformat": 4,
  "vscode": {
   "interpreter": {
    "hash": "3389d59d6185bdb2743c68c14525b686a4ba489ad461a66dec884382969b346d"
   }
  }
 },
 "nbformat": 4,
 "nbformat_minor": 2
}
