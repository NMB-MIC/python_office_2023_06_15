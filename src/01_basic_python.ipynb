{
 "cells": [
  {
   "cell_type": "markdown",
   "metadata": {},
   "source": [
    "## Basic python"
   ]
  },
  {
   "cell_type": "markdown",
   "metadata": {},
   "source": [
    "#### Variables"
   ]
  },
  {
   "cell_type": "code",
   "execution_count": null,
   "metadata": {},
   "outputs": [],
   "source": [
    "print(\"hello world\")\n",
    "\n",
    "msg = \"hello world\"\n",
    "print(msg)\n",
    "\n",
    "msg = \"hello world python\"\n",
    "print(msg)"
   ]
  },
  {
   "cell_type": "code",
   "execution_count": null,
   "metadata": {},
   "outputs": [],
   "source": [
    "name = \"suraphop\"\n",
    "frist_name = \"suraphop\""
   ]
  },
  {
   "cell_type": "code",
   "execution_count": null,
   "metadata": {},
   "outputs": [],
   "source": [
    "#example employee number\n",
    "\n",
    "employee_number = \"J6639\"\n",
    "emp_number = \"J6639\"\n",
    "emp_no = \"J6639\"\n",
    "emp = \"J6639\""
   ]
  },
  {
   "cell_type": "code",
   "execution_count": null,
   "metadata": {},
   "outputs": [],
   "source": [
    "#1name = \"suraphop\"\n",
    "#name_1 = \"suraphop\"\n",
    "#name-1 \"suraphop\"\n",
    "#$name = \"suraphop\""
   ]
  },
  {
   "cell_type": "markdown",
   "metadata": {},
   "source": [
    "#### Data type"
   ]
  },
  {
   "cell_type": "markdown",
   "metadata": {},
   "source": [
    "String"
   ]
  },
  {
   "cell_type": "code",
   "execution_count": null,
   "metadata": {},
   "outputs": [],
   "source": [
    "msg = \"Hello world\"\n",
    "msg = 'Hello world'\n",
    "\n",
    "print(\"This 's easy to learn python\")\n",
    "print('This \"s easy to learn python')\n",
    "\n",
    "type(msg)"
   ]
  },
  {
   "cell_type": "code",
   "execution_count": null,
   "metadata": {},
   "outputs": [],
   "source": [
    "msg1 = \"hello\"\n",
    "msg2 = \"world\"\n",
    "\n",
    "print(msg1+msg2)\n",
    "print(msg1+\" \"+msg2)\n",
    "print(msg1+\" \"+msg2+\" python\")\n",
    "print(f\"{msg1} {msg2} python\")\n",
    "print(f'{msg1} {msg2} python')"
   ]
  },
  {
   "cell_type": "code",
   "execution_count": null,
   "metadata": {},
   "outputs": [],
   "source": [
    "\"PYTHON\".lower()\n",
    "\"python\".upper()"
   ]
  },
  {
   "cell_type": "markdown",
   "metadata": {},
   "source": [
    "Numberic Types"
   ]
  },
  {
   "cell_type": "code",
   "execution_count": 49,
   "metadata": {},
   "outputs": [
    {
     "name": "stdout",
     "output_type": "stream",
     "text": [
      "41\n"
     ]
    }
   ],
   "source": [
    "#interger\n",
    "\n",
    "msg = \"4\"\n",
    "type(msg)\n",
    "\n",
    "#print(msg+1)\n",
    "print(msg+\"1\")"
   ]
  },
  {
   "cell_type": "code",
   "execution_count": 47,
   "metadata": {},
   "outputs": [
    {
     "name": "stdout",
     "output_type": "stream",
     "text": [
      "<class 'int'>\n",
      "5\n"
     ]
    }
   ],
   "source": [
    "msg = 4\n",
    "print(type(msg))\n",
    "\n",
    "print(msg+1)"
   ]
  },
  {
   "cell_type": "code",
   "execution_count": 52,
   "metadata": {},
   "outputs": [
    {
     "name": "stdout",
     "output_type": "stream",
     "text": [
      "<class 'float'>\n",
      "8.4\n",
      "<class 'float'>\n"
     ]
    }
   ],
   "source": [
    "#float\n",
    "msg = 4.4\n",
    "print(type(msg))\n",
    "\n",
    "#interger + float = float\n",
    "print(4+msg)\n",
    "print(type(4+msg))"
   ]
  },
  {
   "cell_type": "markdown",
   "metadata": {},
   "source": [
    "operator"
   ]
  },
  {
   "cell_type": "code",
   "execution_count": 53,
   "metadata": {},
   "outputs": [
    {
     "data": {
      "text/plain": [
       "7"
      ]
     },
     "execution_count": 53,
     "metadata": {},
     "output_type": "execute_result"
    }
   ],
   "source": [
    "3+4"
   ]
  },
  {
   "cell_type": "code",
   "execution_count": 54,
   "metadata": {},
   "outputs": [
    {
     "data": {
      "text/plain": [
       "-1"
      ]
     },
     "execution_count": 54,
     "metadata": {},
     "output_type": "execute_result"
    }
   ],
   "source": [
    "3-4"
   ]
  },
  {
   "cell_type": "code",
   "execution_count": 55,
   "metadata": {},
   "outputs": [
    {
     "data": {
      "text/plain": [
       "12"
      ]
     },
     "execution_count": 55,
     "metadata": {},
     "output_type": "execute_result"
    }
   ],
   "source": [
    "3*4"
   ]
  },
  {
   "cell_type": "code",
   "execution_count": 56,
   "metadata": {},
   "outputs": [
    {
     "data": {
      "text/plain": [
       "0.75"
      ]
     },
     "execution_count": 56,
     "metadata": {},
     "output_type": "execute_result"
    }
   ],
   "source": [
    "3/4"
   ]
  },
  {
   "cell_type": "code",
   "execution_count": 59,
   "metadata": {},
   "outputs": [
    {
     "name": "stdout",
     "output_type": "stream",
     "text": [
      "1.3333333333333333\n",
      "1.33\n",
      "1.333\n"
     ]
    }
   ],
   "source": [
    "print(4/3)\n",
    "print(round(4/3,2))\n",
    "print(round(4/3,3))"
   ]
  },
  {
   "cell_type": "markdown",
   "metadata": {},
   "source": [
    "## CONSTANT"
   ]
  },
  {
   "cell_type": "code",
   "execution_count": 61,
   "metadata": {},
   "outputs": [
    {
     "name": "stdout",
     "output_type": "stream",
     "text": [
      "Hello world\n",
      "Hello world2\n"
     ]
    }
   ],
   "source": [
    "msg = \"Hello world\"\n",
    "print(msg)\n",
    "msg = \"Hello world2\"\n",
    "print(msg)"
   ]
  },
  {
   "cell_type": "code",
   "execution_count": 64,
   "metadata": {},
   "outputs": [
    {
     "name": "stdout",
     "output_type": "stream",
     "text": [
      "fahrenheit\n",
      "fahrenheit1\n"
     ]
    }
   ],
   "source": [
    "TEMPERRATURE_SCALE = \"fahrenheit\"\n",
    "print(TEMPERRATURE_SCALE)\n",
    "\n",
    "TEMPERRATURE_SCALE = \"fahrenheit1\"\n",
    "print(TEMPERRATURE_SCALE)"
   ]
  },
  {
   "cell_type": "markdown",
   "metadata": {},
   "source": [
    "## Data structures"
   ]
  },
  {
   "cell_type": "markdown",
   "metadata": {},
   "source": [
    "Lists"
   ]
  },
  {
   "cell_type": "code",
   "execution_count": 69,
   "metadata": {},
   "outputs": [
    {
     "name": "stdout",
     "output_type": "stream",
     "text": [
      "<class 'str'>\n",
      "<class 'list'>\n"
     ]
    }
   ],
   "source": [
    "file_name = \"one.xlsx\"\n",
    "print(type(file_name))\n",
    "file_names = [\"one.xlsx\",\"two.xlsx\",\"three.xlsx\"]\n",
    "print(type(file_names))"
   ]
  },
  {
   "cell_type": "code",
   "execution_count": 76,
   "metadata": {},
   "outputs": [
    {
     "name": "stdout",
     "output_type": "stream",
     "text": [
      "['one.xlsx', 'two.xlsx', 'three.xlsx']\n",
      "one.xlsx\n",
      "<class 'str'>\n",
      "two.xlsx\n",
      "three.xlsx\n",
      "three.xlsx\n",
      "two.xlsx\n"
     ]
    }
   ],
   "source": [
    "print(file_names)\n",
    "print(file_names[0])\n",
    "print(type(file_names[0]))\n",
    "print(file_names[1])\n",
    "print(file_names[2])\n",
    "print(file_names[-1])\n",
    "print(file_names[-2])"
   ]
  }
 ],
 "metadata": {
  "kernelspec": {
   "display_name": "Python 3.11.3 ('python_office')",
   "language": "python",
   "name": "python3"
  },
  "language_info": {
   "codemirror_mode": {
    "name": "ipython",
    "version": 3
   },
   "file_extension": ".py",
   "mimetype": "text/x-python",
   "name": "python",
   "nbconvert_exporter": "python",
   "pygments_lexer": "ipython3",
   "version": "3.11.3"
  },
  "orig_nbformat": 4,
  "vscode": {
   "interpreter": {
    "hash": "3389d59d6185bdb2743c68c14525b686a4ba489ad461a66dec884382969b346d"
   }
  }
 },
 "nbformat": 4,
 "nbformat_minor": 2
}
