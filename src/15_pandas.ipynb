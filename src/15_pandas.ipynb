{
 "cells": [
  {
   "cell_type": "markdown",
   "metadata": {},
   "source": [
    "#### Pandas"
   ]
  },
  {
   "cell_type": "code",
   "execution_count": null,
   "metadata": {},
   "outputs": [],
   "source": [
    "#!pip install pandas"
   ]
  },
  {
   "cell_type": "code",
   "execution_count": null,
   "metadata": {},
   "outputs": [],
   "source": [
    "#!conda list"
   ]
  },
  {
   "cell_type": "code",
   "execution_count": null,
   "metadata": {},
   "outputs": [],
   "source": [
    "import pandas as pd"
   ]
  },
  {
   "cell_type": "markdown",
   "metadata": {},
   "source": [
    "Dataframe"
   ]
  },
  {
   "cell_type": "code",
   "execution_count": null,
   "metadata": {},
   "outputs": [],
   "source": [
    "datas = [\n",
    "    [\"Mark\",55,\"Italy\",4.5,\"Europe\"],\n",
    "    [\"john\",33,\"USA\",6.9,\"America\"],\n",
    "     [\"tim\",41,\"USA\",3.9,\"America\"],\n",
    "]\n",
    "columns = [\"name\",\"age\",\"country\",\"score\",\"continent\"]\n",
    "\n",
    "df = pd.DataFrame(data=datas,columns=columns)\n",
    "df"
   ]
  },
  {
   "cell_type": "code",
   "execution_count": null,
   "metadata": {},
   "outputs": [],
   "source": [
    "df = pd.read_csv(\"lifesat.csv\")\n",
    "df"
   ]
  },
  {
   "cell_type": "code",
   "execution_count": null,
   "metadata": {},
   "outputs": [],
   "source": [
    "#!pip install openpyxl\n",
    "df = pd.read_excel(\"lifesat.xlsx\") #xls xlsx\n",
    "df"
   ]
  },
  {
   "cell_type": "code",
   "execution_count": null,
   "metadata": {},
   "outputs": [],
   "source": [
    "df = pd.read_csv(\"D:\\\\data_pandas\\\\lifesat.csv\")\n",
    "df"
   ]
  },
  {
   "cell_type": "code",
   "execution_count": null,
   "metadata": {},
   "outputs": [],
   "source": [
    "df = pd.read_csv(\"D:/data_pandas/lifesat.csv\")\n",
    "df"
   ]
  },
  {
   "cell_type": "code",
   "execution_count": null,
   "metadata": {},
   "outputs": [],
   "source": [
    "import os\n",
    "path = os.getcwd()\n",
    "path = path + \"\\\\data\\\\sales_data\"\n",
    "print(path)\n",
    "\n",
    "file_extension = \".xlsx\"\n",
    "xlxs_file_list = []\n",
    "\n",
    "for root,dirs,files in os.walk(path):\n",
    "    for name in files:\n",
    "        if name.endswith(file_extension):\n",
    "            file_path = os.path.join(root,name)  \n",
    "            xlxs_file_list.append(file_path)\n",
    "#print(xlxs_file_list)      "
   ]
  },
  {
   "cell_type": "code",
   "execution_count": null,
   "metadata": {},
   "outputs": [],
   "source": [
    "dfs = []\n",
    "for f in xlxs_file_list:\n",
    "    df = pd.read_excel(f)\n",
    "    dfs.append(df)\n",
    "dfs"
   ]
  },
  {
   "cell_type": "code",
   "execution_count": null,
   "metadata": {},
   "outputs": [],
   "source": [
    "len(dfs)"
   ]
  },
  {
   "cell_type": "code",
   "execution_count": null,
   "metadata": {},
   "outputs": [],
   "source": [
    "dfs[3]"
   ]
  },
  {
   "cell_type": "code",
   "execution_count": null,
   "metadata": {},
   "outputs": [],
   "source": [
    "# API\n",
    "#!pip install requests\n",
    "import requests\n",
    "\n",
    "url = \"https://covid19.ddc.moph.go.th/api/Cases/today-cases-all\"\n",
    "res = requests.get(url, headers={\"User-Agent\": \"Mozilla/5.0\"})\n",
    "data = res.json()\n",
    "print(data)\n",
    "df = pd.DataFrame.from_dict(data)\n",
    "df"
   ]
  },
  {
   "cell_type": "code",
   "execution_count": null,
   "metadata": {},
   "outputs": [],
   "source": [
    "# API\n",
    "#!pip install requests\n",
    "import requests\n",
    "\n",
    "url = \"https://covid19.ddc.moph.go.th/api/Cases/today-cases-by-provinces\"\n",
    "res = requests.get(url, headers={\"User-Agent\": \"Mozilla/5.0\"})\n",
    "data = res.json()\n",
    "#print(data)\n",
    "df = pd.DataFrame.from_dict(data)\n",
    "df\n",
    "    "
   ]
  },
  {
   "cell_type": "code",
   "execution_count": null,
   "metadata": {},
   "outputs": [],
   "source": [
    "# sql server\n",
    "#!pip install pypyodbc\n",
    "import pypyodbc\n",
    "\n",
    "cnxn = pypyodbc.connect(\"Driver= {SQL Server};\"\n",
    "                        \"Server=192.168.1.101\\SQLEXPRESS;\"\n",
    "                        \"Database=test;\"\n",
    "                        \"uid=sa;pwd=sa@admin\")\n",
    "df = pd.read_sql_query(\"SELECT * FROM [test].[dbo].[table1] \",cnxn)\n",
    "#df = pd.read_sql_query(\"SELECT * FROM [test].[dbo].[table1] where test1 =1\",cnxn)\n",
    "df"
   ]
  },
  {
   "cell_type": "code",
   "execution_count": null,
   "metadata": {},
   "outputs": [],
   "source": [
    "datas = [\n",
    "    [\"Mark\",55,\"Italy\",4.5,\"Europe\"],\n",
    "    [\"john\",33,\"USA\",6.9,\"America\"],\n",
    "     [\"tim\",41,\"USA\",3.9,\"America\"],\n",
    "]\n",
    "columns = [\"name\",\"age\",\"country\",\"score\",\"continent\"]\n",
    "\n",
    "df = pd.DataFrame(data=datas,columns=columns)\n",
    "df"
   ]
  },
  {
   "cell_type": "markdown",
   "metadata": {},
   "source": [
    "index"
   ]
  },
  {
   "cell_type": "code",
   "execution_count": null,
   "metadata": {},
   "outputs": [],
   "source": [
    "df.index"
   ]
  },
  {
   "cell_type": "code",
   "execution_count": null,
   "metadata": {},
   "outputs": [],
   "source": [
    "df.index.name = \"user_id\"\n",
    "df"
   ]
  },
  {
   "cell_type": "code",
   "execution_count": null,
   "metadata": {},
   "outputs": [],
   "source": [
    "df.reset_index()"
   ]
  },
  {
   "cell_type": "code",
   "execution_count": null,
   "metadata": {},
   "outputs": [],
   "source": [
    "df.set_index(\"name\")"
   ]
  },
  {
   "cell_type": "code",
   "execution_count": null,
   "metadata": {},
   "outputs": [],
   "source": [
    "df.reset_index()"
   ]
  },
  {
   "cell_type": "code",
   "execution_count": null,
   "metadata": {},
   "outputs": [],
   "source": [
    "df.sort_index()"
   ]
  },
  {
   "cell_type": "code",
   "execution_count": null,
   "metadata": {},
   "outputs": [],
   "source": [
    "df.sort_index(ascending=False)"
   ]
  },
  {
   "cell_type": "code",
   "execution_count": null,
   "metadata": {},
   "outputs": [],
   "source": [
    "df.sort_values([\"continent\"])"
   ]
  },
  {
   "cell_type": "code",
   "execution_count": null,
   "metadata": {},
   "outputs": [],
   "source": [
    "df.sort_values([\"continent\",\"age\"])"
   ]
  },
  {
   "cell_type": "code",
   "execution_count": null,
   "metadata": {},
   "outputs": [],
   "source": [
    "df.sort_values([\"continent\",\"age\"],ascending=False)"
   ]
  },
  {
   "cell_type": "markdown",
   "metadata": {},
   "source": [
    "Columns"
   ]
  },
  {
   "cell_type": "code",
   "execution_count": null,
   "metadata": {},
   "outputs": [],
   "source": [
    "datas = [\n",
    "    [\"Mark\",55,\"Italy\",4.5,\"Europe\"],\n",
    "    [\"john\",33,\"USA\",6.9,\"America\"],\n",
    "     [\"tim\",41,\"USA\",3.9,\"America\"],\n",
    "]\n",
    "columns = [\"name\",\"age\",\"country\",\"score\",\"continent\"]\n",
    "\n",
    "df = pd.DataFrame(data=datas,columns=columns)\n",
    "df"
   ]
  },
  {
   "cell_type": "code",
   "execution_count": null,
   "metadata": {},
   "outputs": [],
   "source": [
    "df.columns"
   ]
  },
  {
   "cell_type": "code",
   "execution_count": null,
   "metadata": {},
   "outputs": [],
   "source": [
    "df_renames = df.copy()\n",
    "df_renames"
   ]
  },
  {
   "cell_type": "code",
   "execution_count": null,
   "metadata": {},
   "outputs": [],
   "source": [
    "df_renames.rename(columns={\"name\": \"frist name\",\"age\":\"AGE\"},inplace=True)"
   ]
  },
  {
   "cell_type": "code",
   "execution_count": null,
   "metadata": {},
   "outputs": [],
   "source": [
    "df_renames"
   ]
  },
  {
   "cell_type": "code",
   "execution_count": null,
   "metadata": {},
   "outputs": [],
   "source": [
    "df"
   ]
  },
  {
   "cell_type": "markdown",
   "metadata": {},
   "source": [
    "drop"
   ]
  },
  {
   "cell_type": "code",
   "execution_count": null,
   "metadata": {},
   "outputs": [],
   "source": [
    "df"
   ]
  },
  {
   "cell_type": "code",
   "execution_count": null,
   "metadata": {},
   "outputs": [],
   "source": [
    "df.drop(columns=[\"score\",\"continent\"])"
   ]
  },
  {
   "cell_type": "code",
   "execution_count": null,
   "metadata": {},
   "outputs": [],
   "source": [
    "df"
   ]
  },
  {
   "cell_type": "markdown",
   "metadata": {},
   "source": [
    "Transpose"
   ]
  },
  {
   "cell_type": "code",
   "execution_count": null,
   "metadata": {},
   "outputs": [],
   "source": [
    "df"
   ]
  },
  {
   "cell_type": "code",
   "execution_count": null,
   "metadata": {},
   "outputs": [],
   "source": [
    "df.T"
   ]
  },
  {
   "cell_type": "markdown",
   "metadata": {},
   "source": [
    "#### Data Manipulation"
   ]
  },
  {
   "cell_type": "markdown",
   "metadata": {},
   "source": [
    "selecting data"
   ]
  },
  {
   "cell_type": "code",
   "execution_count": null,
   "metadata": {},
   "outputs": [],
   "source": [
    "df"
   ]
  },
  {
   "cell_type": "code",
   "execution_count": null,
   "metadata": {},
   "outputs": [],
   "source": [
    "df.loc[0,\"name\"]"
   ]
  },
  {
   "cell_type": "code",
   "execution_count": null,
   "metadata": {},
   "outputs": [],
   "source": [
    "df.loc[0,\"age\"]"
   ]
  },
  {
   "cell_type": "code",
   "execution_count": null,
   "metadata": {},
   "outputs": [],
   "source": [
    "df.loc[:1,\"age\"] #slicing"
   ]
  },
  {
   "cell_type": "code",
   "execution_count": null,
   "metadata": {},
   "outputs": [],
   "source": [
    "df.loc[[0,1],\"age\"] #list"
   ]
  },
  {
   "cell_type": "code",
   "execution_count": null,
   "metadata": {},
   "outputs": [],
   "source": [
    "df.loc[:2,[\"name\",\"country\"]]"
   ]
  },
  {
   "cell_type": "code",
   "execution_count": null,
   "metadata": {},
   "outputs": [],
   "source": [
    "df.iloc[0,0]"
   ]
  },
  {
   "cell_type": "code",
   "execution_count": null,
   "metadata": {},
   "outputs": [],
   "source": [
    "df.iloc[0,2]"
   ]
  },
  {
   "cell_type": "code",
   "execution_count": null,
   "metadata": {},
   "outputs": [],
   "source": [
    "tfs = df[\"age\"] > 40\n",
    "df.loc[tfs,:]"
   ]
  },
  {
   "cell_type": "code",
   "execution_count": null,
   "metadata": {},
   "outputs": [],
   "source": [
    "df[df[\"age\"] > 40]"
   ]
  },
  {
   "cell_type": "code",
   "execution_count": null,
   "metadata": {},
   "outputs": [],
   "source": [
    "df[(df[\"age\"] > 40) & (df[\"country\"] == \"USA\") ]  # and"
   ]
  },
  {
   "cell_type": "code",
   "execution_count": null,
   "metadata": {},
   "outputs": [],
   "source": [
    "df[(df[\"age\"] > 40) | (df[\"country\"] == \"USA\") ] # or"
   ]
  },
  {
   "cell_type": "code",
   "execution_count": null,
   "metadata": {},
   "outputs": [],
   "source": [
    "df"
   ]
  },
  {
   "cell_type": "markdown",
   "metadata": {},
   "source": [
    "example1 : \n",
    "- score >4 and continent is Europe or America\n",
    "example2 : \n",
    "- age >40 and continent is Europe or America"
   ]
  },
  {
   "cell_type": "code",
   "execution_count": null,
   "metadata": {},
   "outputs": [],
   "source": [
    "df[(df['score'] > 4) & ((df['continent'] == \"Europe\") | (df['continent'] == \"America\") )]"
   ]
  },
  {
   "cell_type": "code",
   "execution_count": null,
   "metadata": {},
   "outputs": [],
   "source": [
    "df[(df['age'] > 40) & ((df['continent'] == \"Europe\") | (df['continent'] == \"America\") )]"
   ]
  },
  {
   "cell_type": "code",
   "execution_count": null,
   "metadata": {},
   "outputs": [],
   "source": [
    "df[df[\"country\"].isin([\"Italy\"])]"
   ]
  },
  {
   "cell_type": "code",
   "execution_count": null,
   "metadata": {},
   "outputs": [],
   "source": [
    "country = \"Italy\"\n",
    "\n",
    "df[df[\"country\"].isin([country])]"
   ]
  },
  {
   "cell_type": "markdown",
   "metadata": {},
   "source": [
    "Update data"
   ]
  },
  {
   "cell_type": "code",
   "execution_count": null,
   "metadata": {},
   "outputs": [],
   "source": [
    "df"
   ]
  },
  {
   "cell_type": "code",
   "execution_count": null,
   "metadata": {},
   "outputs": [],
   "source": [
    "df_update = df.copy()"
   ]
  },
  {
   "cell_type": "code",
   "execution_count": null,
   "metadata": {},
   "outputs": [],
   "source": [
    "df_update"
   ]
  },
  {
   "cell_type": "code",
   "execution_count": null,
   "metadata": {},
   "outputs": [],
   "source": [
    "df_update.loc[1,\"name\"] = \"JOHN\"\n",
    "df_update"
   ]
  },
  {
   "cell_type": "code",
   "execution_count": null,
   "metadata": {},
   "outputs": [],
   "source": [
    "tfs = df_update[\"age\"] > 45\n",
    "df_update.loc[tfs,\"score\"] = 9.9\n",
    "df_update"
   ]
  },
  {
   "cell_type": "code",
   "execution_count": null,
   "metadata": {},
   "outputs": [],
   "source": [
    "#df_update[df_update[\"age\"] > 45][\"score\"] = 1.1\n",
    "#df_update"
   ]
  },
  {
   "cell_type": "code",
   "execution_count": null,
   "metadata": {},
   "outputs": [],
   "source": [
    "df_update.replace(\"USA\", \"U.S\")"
   ]
  },
  {
   "cell_type": "code",
   "execution_count": null,
   "metadata": {},
   "outputs": [],
   "source": [
    "df_update"
   ]
  },
  {
   "cell_type": "code",
   "execution_count": null,
   "metadata": {},
   "outputs": [],
   "source": [
    "df_update[\"discount\"] = 1\n",
    "df_update"
   ]
  },
  {
   "cell_type": "code",
   "execution_count": null,
   "metadata": {},
   "outputs": [],
   "source": [
    "df_update[\"price\"] = [49,48,99]\n",
    "df_update"
   ]
  },
  {
   "cell_type": "code",
   "execution_count": null,
   "metadata": {},
   "outputs": [],
   "source": [
    "df_update[\"birthday\"] = 2023-df[\"age\"]\n",
    "df_update"
   ]
  },
  {
   "cell_type": "markdown",
   "metadata": {},
   "source": [
    "Missing data"
   ]
  },
  {
   "cell_type": "code",
   "execution_count": null,
   "metadata": {},
   "outputs": [],
   "source": [
    "df_update"
   ]
  },
  {
   "cell_type": "code",
   "execution_count": null,
   "metadata": {},
   "outputs": [],
   "source": [
    "df_update.loc[0,\"score\"] = None\n",
    "df_update"
   ]
  },
  {
   "cell_type": "code",
   "execution_count": null,
   "metadata": {},
   "outputs": [],
   "source": [
    "df_update.isna()"
   ]
  },
  {
   "cell_type": "code",
   "execution_count": null,
   "metadata": {},
   "outputs": [],
   "source": [
    "df_update.fillna({\"score\":0})"
   ]
  },
  {
   "cell_type": "code",
   "execution_count": null,
   "metadata": {},
   "outputs": [],
   "source": [
    "df_update.loc[0,\"score\"] = None\n",
    "df_update"
   ]
  },
  {
   "cell_type": "code",
   "execution_count": null,
   "metadata": {},
   "outputs": [],
   "source": [
    "df_update.dropna()"
   ]
  },
  {
   "cell_type": "markdown",
   "metadata": {},
   "source": [
    "Duplicate data"
   ]
  },
  {
   "cell_type": "code",
   "execution_count": null,
   "metadata": {},
   "outputs": [],
   "source": [
    "df_dup = df.copy()\n",
    "df_dup"
   ]
  },
  {
   "cell_type": "code",
   "execution_count": null,
   "metadata": {},
   "outputs": [],
   "source": [
    "df_dup[\"country\"].is_unique"
   ]
  },
  {
   "cell_type": "code",
   "execution_count": null,
   "metadata": {},
   "outputs": [],
   "source": [
    "df_dup[\"country\"].unique()"
   ]
  },
  {
   "cell_type": "code",
   "execution_count": null,
   "metadata": {},
   "outputs": [],
   "source": [
    "df_dup[\"age\"].is_unique"
   ]
  },
  {
   "cell_type": "code",
   "execution_count": null,
   "metadata": {},
   "outputs": [],
   "source": [
    "df_dup.drop_duplicates([\"country\"])"
   ]
  },
  {
   "cell_type": "markdown",
   "metadata": {},
   "source": [
    "#### Combining dataframes"
   ]
  },
  {
   "cell_type": "markdown",
   "metadata": {},
   "source": [
    "Concatenating"
   ]
  },
  {
   "cell_type": "code",
   "execution_count": null,
   "metadata": {},
   "outputs": [],
   "source": [
    "df"
   ]
  },
  {
   "cell_type": "code",
   "execution_count": null,
   "metadata": {},
   "outputs": [],
   "source": [
    "datas = [\n",
    "    [15,\"france\",4.1,\"Becky\"],\n",
    "    [44,\"Canada\",6.4,\"Leanne\"]\n",
    "]\n",
    "more_users = pd.DataFrame(data=datas,\n",
    "                            columns=[\"age\",\"country\",\"score\",\"name\"])\n",
    "more_users"
   ]
  },
  {
   "cell_type": "code",
   "execution_count": null,
   "metadata": {},
   "outputs": [],
   "source": [
    "pd.concat([df,more_users])"
   ]
  },
  {
   "cell_type": "code",
   "execution_count": null,
   "metadata": {},
   "outputs": [],
   "source": [
    "datas = [\n",
    "    [15,\"france\",4.1,\"Becky\"],\n",
    "    [44,\"Canada\",6.4,\"Leanne\"]\n",
    "]\n",
    "more_users = pd.DataFrame(data=datas,\n",
    "                            columns=[\"age1\",\"country1\",\"score1\",\"name1\"])\n",
    "more_users"
   ]
  },
  {
   "cell_type": "code",
   "execution_count": null,
   "metadata": {},
   "outputs": [],
   "source": [
    "pd.concat([df,more_users])"
   ]
  },
  {
   "cell_type": "markdown",
   "metadata": {},
   "source": [
    "Joining and merge"
   ]
  },
  {
   "cell_type": "code",
   "execution_count": null,
   "metadata": {},
   "outputs": [],
   "source": [
    "df1 = pd.DataFrame(data= [\n",
    "    [1,2],\n",
    "    [3,4],\n",
    "    [5,6]\n",
    "],\n",
    "    columns=[\"A\",\"B\"]\n",
    "    )\n",
    "\n",
    "df1"
   ]
  },
  {
   "cell_type": "code",
   "execution_count": null,
   "metadata": {},
   "outputs": [],
   "source": [
    "df2 = pd.DataFrame(data= [\n",
    "    [10,20],\n",
    "    [30,40],\n",
    "],\n",
    "    columns=[\"C\",\"D\"]\n",
    "    )\n",
    "\n",
    "df2"
   ]
  },
  {
   "cell_type": "code",
   "execution_count": null,
   "metadata": {},
   "outputs": [],
   "source": [
    "df1.join(df2,how=\"inner\")"
   ]
  },
  {
   "cell_type": "code",
   "execution_count": null,
   "metadata": {},
   "outputs": [],
   "source": [
    "df1.join(df2,how=\"left\")"
   ]
  },
  {
   "cell_type": "code",
   "execution_count": null,
   "metadata": {},
   "outputs": [],
   "source": [
    "df1.join(df2,how=\"right\")"
   ]
  },
  {
   "cell_type": "code",
   "execution_count": null,
   "metadata": {},
   "outputs": [],
   "source": [
    "df1.join(df2,how=\"outer\")"
   ]
  },
  {
   "cell_type": "code",
   "execution_count": null,
   "metadata": {},
   "outputs": [],
   "source": [
    "df1[\"category\"] = [\"a\",\"b\",\"c\"]\n",
    "df2[\"category\"] = [\"c\",\"b\"]"
   ]
  },
  {
   "cell_type": "code",
   "execution_count": null,
   "metadata": {},
   "outputs": [],
   "source": [
    "df1"
   ]
  },
  {
   "cell_type": "code",
   "execution_count": null,
   "metadata": {},
   "outputs": [],
   "source": [
    "df2"
   ]
  },
  {
   "cell_type": "code",
   "execution_count": null,
   "metadata": {},
   "outputs": [],
   "source": [
    "df1.merge(df2,how=\"inner\",on=[\"category\"])"
   ]
  },
  {
   "cell_type": "markdown",
   "metadata": {},
   "source": [
    "#### Data Aggregation and Descripive Statistics"
   ]
  },
  {
   "cell_type": "markdown",
   "metadata": {},
   "source": [
    "Descripive Statistics"
   ]
  },
  {
   "cell_type": "code",
   "execution_count": null,
   "metadata": {},
   "outputs": [],
   "source": [
    "rainfall = pd.DataFrame(data= {\n",
    "                                \"City 1\": [300.111,100.222],\n",
    "                                \"City 2\" : [400.333,300.444],\n",
    "                                \"City 3\" : [10000.555,1100.666]\n",
    "})\n",
    "rainfall"
   ]
  },
  {
   "cell_type": "code",
   "execution_count": null,
   "metadata": {},
   "outputs": [],
   "source": [
    "rainfall.mean()"
   ]
  },
  {
   "cell_type": "code",
   "execution_count": null,
   "metadata": {},
   "outputs": [],
   "source": [
    "rainfall.mean(axis=1)"
   ]
  },
  {
   "cell_type": "code",
   "execution_count": null,
   "metadata": {},
   "outputs": [],
   "source": [
    "rainfall.sum()"
   ]
  },
  {
   "cell_type": "code",
   "execution_count": null,
   "metadata": {},
   "outputs": [],
   "source": [
    "rainfall.sum(axis=1)"
   ]
  },
  {
   "cell_type": "markdown",
   "metadata": {},
   "source": [
    "Grouping"
   ]
  },
  {
   "cell_type": "code",
   "execution_count": null,
   "metadata": {},
   "outputs": [],
   "source": [
    "df"
   ]
  },
  {
   "cell_type": "code",
   "execution_count": null,
   "metadata": {},
   "outputs": [],
   "source": [
    "df.groupby([\"continent\"]).mean()"
   ]
  },
  {
   "cell_type": "code",
   "execution_count": null,
   "metadata": {},
   "outputs": [],
   "source": [
    "df.groupby([\"continent\"]).sum()"
   ]
  },
  {
   "cell_type": "markdown",
   "metadata": {},
   "source": [
    "Pivoting"
   ]
  },
  {
   "cell_type": "code",
   "execution_count": null,
   "metadata": {},
   "outputs": [],
   "source": [
    "datas = [\n",
    "    [\"orange\",\"north\",12.30],\n",
    "    [\"apple\",\"south\",10.55],\n",
    "    [\"orange\",\"south\",22.00],\n",
    "    [\"banana\",\"south\",5.9],\n",
    "    [\"banana\",\"south\",31.3],\n",
    "    [\"orange\",\"north\",13.10]\n",
    "]\n",
    "\n",
    "sales = pd.DataFrame(data=datas,columns=[\"fruit\",\"region\",\"revenue\"])\n",
    "sales"
   ]
  },
  {
   "cell_type": "code",
   "execution_count": null,
   "metadata": {},
   "outputs": [],
   "source": [
    "pivot = pd.pivot_table(sales,index=\"fruit\",\n",
    "columns=\"region\",values=\"revenue\",\n",
    "aggfunc=\"sum\",margins=True,margins_name=\"Total\")\n",
    "pivot.fillna({\"north\":0})"
   ]
  },
  {
   "cell_type": "markdown",
   "metadata": {},
   "source": [
    "Example:\n",
    " sum sales  amount -> jan 2021"
   ]
  },
  {
   "cell_type": "code",
   "execution_count": null,
   "metadata": {},
   "outputs": [],
   "source": [
    "df = pd.read_excel(\"data/sales_data/2021/January.xlsx\")\n",
    "df"
   ]
  },
  {
   "cell_type": "code",
   "execution_count": null,
   "metadata": {},
   "outputs": [],
   "source": [
    "df.isna().sum()"
   ]
  },
  {
   "cell_type": "code",
   "execution_count": 183,
   "metadata": {},
   "outputs": [
    {
     "data": {
      "text/html": [
       "<div>\n",
       "<style scoped>\n",
       "    .dataframe tbody tr th:only-of-type {\n",
       "        vertical-align: middle;\n",
       "    }\n",
       "\n",
       "    .dataframe tbody tr th {\n",
       "        vertical-align: top;\n",
       "    }\n",
       "\n",
       "    .dataframe thead th {\n",
       "        text-align: right;\n",
       "    }\n",
       "</style>\n",
       "<table border=\"1\" class=\"dataframe\">\n",
       "  <thead>\n",
       "    <tr style=\"text-align: right;\">\n",
       "      <th></th>\n",
       "      <th>transaction_id</th>\n",
       "      <th>store</th>\n",
       "      <th>status</th>\n",
       "      <th>transaction_date</th>\n",
       "      <th>plan</th>\n",
       "      <th>contract_type</th>\n",
       "      <th>amount</th>\n",
       "    </tr>\n",
       "  </thead>\n",
       "  <tbody>\n",
       "    <tr>\n",
       "      <th>0</th>\n",
       "      <td>abfbdd6d</td>\n",
       "      <td>Chicago</td>\n",
       "      <td>ACTIVE</td>\n",
       "      <td>2019-01-01</td>\n",
       "      <td>Silver</td>\n",
       "      <td>NEW</td>\n",
       "      <td>14.25</td>\n",
       "    </tr>\n",
       "    <tr>\n",
       "      <th>1</th>\n",
       "      <td>136a9997</td>\n",
       "      <td>San Francisco</td>\n",
       "      <td>ACTIVE</td>\n",
       "      <td>2019-01-01</td>\n",
       "      <td>Gold</td>\n",
       "      <td>NEW</td>\n",
       "      <td>19.35</td>\n",
       "    </tr>\n",
       "    <tr>\n",
       "      <th>2</th>\n",
       "      <td>c6688f32</td>\n",
       "      <td>San Francisco</td>\n",
       "      <td>ACTIVE</td>\n",
       "      <td>2019-01-01</td>\n",
       "      <td>Bronze</td>\n",
       "      <td>NEW</td>\n",
       "      <td>12.20</td>\n",
       "    </tr>\n",
       "    <tr>\n",
       "      <th>3</th>\n",
       "      <td>6ef349c1</td>\n",
       "      <td>Chicago</td>\n",
       "      <td>ACTIVE</td>\n",
       "      <td>2019-01-01</td>\n",
       "      <td>Gold</td>\n",
       "      <td>NEW</td>\n",
       "      <td>19.35</td>\n",
       "    </tr>\n",
       "    <tr>\n",
       "      <th>4</th>\n",
       "      <td>22066f29</td>\n",
       "      <td>San Francisco</td>\n",
       "      <td>ACTIVE</td>\n",
       "      <td>2019-01-01</td>\n",
       "      <td>Silver</td>\n",
       "      <td>NEW</td>\n",
       "      <td>14.25</td>\n",
       "    </tr>\n",
       "    <tr>\n",
       "      <th>...</th>\n",
       "      <td>...</td>\n",
       "      <td>...</td>\n",
       "      <td>...</td>\n",
       "      <td>...</td>\n",
       "      <td>...</td>\n",
       "      <td>...</td>\n",
       "      <td>...</td>\n",
       "    </tr>\n",
       "    <tr>\n",
       "      <th>9488</th>\n",
       "      <td>b487a1a6</td>\n",
       "      <td>New York</td>\n",
       "      <td>ACTIVE</td>\n",
       "      <td>2019-01-31</td>\n",
       "      <td>Silver</td>\n",
       "      <td>NEW</td>\n",
       "      <td>14.25</td>\n",
       "    </tr>\n",
       "    <tr>\n",
       "      <th>9489</th>\n",
       "      <td>9ab1fb48</td>\n",
       "      <td>Boston</td>\n",
       "      <td>ACTIVE</td>\n",
       "      <td>2019-01-31</td>\n",
       "      <td>Bronze</td>\n",
       "      <td>NEW</td>\n",
       "      <td>12.20</td>\n",
       "    </tr>\n",
       "    <tr>\n",
       "      <th>9490</th>\n",
       "      <td>08766c08</td>\n",
       "      <td>San Francisco</td>\n",
       "      <td>ACTIVE</td>\n",
       "      <td>2019-01-31</td>\n",
       "      <td>Silver</td>\n",
       "      <td>NEW</td>\n",
       "      <td>14.25</td>\n",
       "    </tr>\n",
       "    <tr>\n",
       "      <th>9491</th>\n",
       "      <td>3e56df84</td>\n",
       "      <td>Boston</td>\n",
       "      <td>ACTIVE</td>\n",
       "      <td>2019-01-31</td>\n",
       "      <td>Bronze</td>\n",
       "      <td>NEW</td>\n",
       "      <td>12.20</td>\n",
       "    </tr>\n",
       "    <tr>\n",
       "      <th>9492</th>\n",
       "      <td>2f28e861</td>\n",
       "      <td>Washington DC</td>\n",
       "      <td>ACTIVE</td>\n",
       "      <td>2019-01-31</td>\n",
       "      <td>Bronze</td>\n",
       "      <td>NEW</td>\n",
       "      <td>12.20</td>\n",
       "    </tr>\n",
       "  </tbody>\n",
       "</table>\n",
       "<p>9493 rows × 7 columns</p>\n",
       "</div>"
      ],
      "text/plain": [
       "     transaction_id          store  status transaction_date    plan  \\\n",
       "0          abfbdd6d        Chicago  ACTIVE       2019-01-01  Silver   \n",
       "1          136a9997  San Francisco  ACTIVE       2019-01-01    Gold   \n",
       "2          c6688f32  San Francisco  ACTIVE       2019-01-01  Bronze   \n",
       "3          6ef349c1        Chicago  ACTIVE       2019-01-01    Gold   \n",
       "4          22066f29  San Francisco  ACTIVE       2019-01-01  Silver   \n",
       "...             ...            ...     ...              ...     ...   \n",
       "9488       b487a1a6       New York  ACTIVE       2019-01-31  Silver   \n",
       "9489       9ab1fb48         Boston  ACTIVE       2019-01-31  Bronze   \n",
       "9490       08766c08  San Francisco  ACTIVE       2019-01-31  Silver   \n",
       "9491       3e56df84         Boston  ACTIVE       2019-01-31  Bronze   \n",
       "9492       2f28e861  Washington DC  ACTIVE       2019-01-31  Bronze   \n",
       "\n",
       "     contract_type  amount  \n",
       "0              NEW   14.25  \n",
       "1              NEW   19.35  \n",
       "2              NEW   12.20  \n",
       "3              NEW   19.35  \n",
       "4              NEW   14.25  \n",
       "...            ...     ...  \n",
       "9488           NEW   14.25  \n",
       "9489           NEW   12.20  \n",
       "9490           NEW   14.25  \n",
       "9491           NEW   12.20  \n",
       "9492           NEW   12.20  \n",
       "\n",
       "[9493 rows x 7 columns]"
      ]
     },
     "execution_count": 183,
     "metadata": {},
     "output_type": "execute_result"
    }
   ],
   "source": [
    "df"
   ]
  },
  {
   "cell_type": "code",
   "execution_count": 191,
   "metadata": {},
   "outputs": [
    {
     "data": {
      "text/html": [
       "<div>\n",
       "<style scoped>\n",
       "    .dataframe tbody tr th:only-of-type {\n",
       "        vertical-align: middle;\n",
       "    }\n",
       "\n",
       "    .dataframe tbody tr th {\n",
       "        vertical-align: top;\n",
       "    }\n",
       "\n",
       "    .dataframe thead th {\n",
       "        text-align: right;\n",
       "    }\n",
       "</style>\n",
       "<table border=\"1\" class=\"dataframe\">\n",
       "  <thead>\n",
       "    <tr style=\"text-align: right;\">\n",
       "      <th>store</th>\n",
       "      <th>Boston</th>\n",
       "      <th>Chicago</th>\n",
       "      <th>Las Vegas</th>\n",
       "      <th>New York</th>\n",
       "      <th>San Francisco</th>\n",
       "      <th>Washington DC</th>\n",
       "      <th>Total</th>\n",
       "    </tr>\n",
       "    <tr>\n",
       "      <th>transaction_date</th>\n",
       "      <th></th>\n",
       "      <th></th>\n",
       "      <th></th>\n",
       "      <th></th>\n",
       "      <th></th>\n",
       "      <th></th>\n",
       "      <th></th>\n",
       "    </tr>\n",
       "  </thead>\n",
       "  <tbody>\n",
       "    <tr>\n",
       "      <th>2019-01-01 00:00:00</th>\n",
       "      <td>465.15</td>\n",
       "      <td>1277.25</td>\n",
       "      <td>269.70</td>\n",
       "      <td>1740.25</td>\n",
       "      <td>1739.20</td>\n",
       "      <td>355.15</td>\n",
       "      <td>5846.70</td>\n",
       "    </tr>\n",
       "    <tr>\n",
       "      <th>2019-01-02 00:00:00</th>\n",
       "      <td>621.80</td>\n",
       "      <td>1177.50</td>\n",
       "      <td>369.45</td>\n",
       "      <td>1833.85</td>\n",
       "      <td>1861.45</td>\n",
       "      <td>326.70</td>\n",
       "      <td>6190.75</td>\n",
       "    </tr>\n",
       "    <tr>\n",
       "      <th>2019-01-03 00:00:00</th>\n",
       "      <td>449.85</td>\n",
       "      <td>1204.95</td>\n",
       "      <td>302.25</td>\n",
       "      <td>1614.05</td>\n",
       "      <td>1736.20</td>\n",
       "      <td>286.95</td>\n",
       "      <td>5594.25</td>\n",
       "    </tr>\n",
       "    <tr>\n",
       "      <th>2019-01-04 00:00:00</th>\n",
       "      <td>600.45</td>\n",
       "      <td>1165.25</td>\n",
       "      <td>340.95</td>\n",
       "      <td>1712.95</td>\n",
       "      <td>1763.75</td>\n",
       "      <td>204.55</td>\n",
       "      <td>5787.90</td>\n",
       "    </tr>\n",
       "    <tr>\n",
       "      <th>2019-01-07 00:00:00</th>\n",
       "      <td>599.40</td>\n",
       "      <td>1197.80</td>\n",
       "      <td>395.90</td>\n",
       "      <td>1427.70</td>\n",
       "      <td>1967.20</td>\n",
       "      <td>265.65</td>\n",
       "      <td>5853.65</td>\n",
       "    </tr>\n",
       "    <tr>\n",
       "      <th>2019-01-08 00:00:00</th>\n",
       "      <td>698.05</td>\n",
       "      <td>987.05</td>\n",
       "      <td>215.70</td>\n",
       "      <td>2050.40</td>\n",
       "      <td>1866.45</td>\n",
       "      <td>344.05</td>\n",
       "      <td>6161.70</td>\n",
       "    </tr>\n",
       "    <tr>\n",
       "      <th>2019-01-09 00:00:00</th>\n",
       "      <td>590.25</td>\n",
       "      <td>1136.80</td>\n",
       "      <td>391.85</td>\n",
       "      <td>1909.30</td>\n",
       "      <td>1971.30</td>\n",
       "      <td>316.50</td>\n",
       "      <td>6316.00</td>\n",
       "    </tr>\n",
       "    <tr>\n",
       "      <th>2019-01-10 00:00:00</th>\n",
       "      <td>463.00</td>\n",
       "      <td>1027.80</td>\n",
       "      <td>408.10</td>\n",
       "      <td>1697.50</td>\n",
       "      <td>1714.85</td>\n",
       "      <td>247.30</td>\n",
       "      <td>5558.55</td>\n",
       "    </tr>\n",
       "    <tr>\n",
       "      <th>2019-01-11 00:00:00</th>\n",
       "      <td>578.00</td>\n",
       "      <td>1093.90</td>\n",
       "      <td>388.75</td>\n",
       "      <td>1974.45</td>\n",
       "      <td>2116.85</td>\n",
       "      <td>353.25</td>\n",
       "      <td>6505.20</td>\n",
       "    </tr>\n",
       "    <tr>\n",
       "      <th>2019-01-14 00:00:00</th>\n",
       "      <td>629.95</td>\n",
       "      <td>1103.25</td>\n",
       "      <td>388.75</td>\n",
       "      <td>2055.85</td>\n",
       "      <td>1939.65</td>\n",
       "      <td>295.20</td>\n",
       "      <td>6412.65</td>\n",
       "    </tr>\n",
       "    <tr>\n",
       "      <th>2019-01-15 00:00:00</th>\n",
       "      <td>646.25</td>\n",
       "      <td>804.90</td>\n",
       "      <td>354.20</td>\n",
       "      <td>1875.60</td>\n",
       "      <td>1854.30</td>\n",
       "      <td>319.60</td>\n",
       "      <td>5854.85</td>\n",
       "    </tr>\n",
       "    <tr>\n",
       "      <th>2019-01-16 00:00:00</th>\n",
       "      <td>691.10</td>\n",
       "      <td>1038.05</td>\n",
       "      <td>289.00</td>\n",
       "      <td>1872.55</td>\n",
       "      <td>2206.20</td>\n",
       "      <td>285.95</td>\n",
       "      <td>6382.85</td>\n",
       "    </tr>\n",
       "    <tr>\n",
       "      <th>2019-01-17 00:00:00</th>\n",
       "      <td>615.60</td>\n",
       "      <td>1293.40</td>\n",
       "      <td>288.95</td>\n",
       "      <td>1608.10</td>\n",
       "      <td>1962.05</td>\n",
       "      <td>205.55</td>\n",
       "      <td>5973.65</td>\n",
       "    </tr>\n",
       "    <tr>\n",
       "      <th>2019-01-18 00:00:00</th>\n",
       "      <td>653.30</td>\n",
       "      <td>1035.95</td>\n",
       "      <td>259.55</td>\n",
       "      <td>1873.55</td>\n",
       "      <td>1764.80</td>\n",
       "      <td>266.60</td>\n",
       "      <td>5853.75</td>\n",
       "    </tr>\n",
       "    <tr>\n",
       "      <th>2019-01-21 00:00:00</th>\n",
       "      <td>573.95</td>\n",
       "      <td>1278.30</td>\n",
       "      <td>208.65</td>\n",
       "      <td>2002.95</td>\n",
       "      <td>1672.10</td>\n",
       "      <td>300.15</td>\n",
       "      <td>6036.10</td>\n",
       "    </tr>\n",
       "    <tr>\n",
       "      <th>2019-01-22 00:00:00</th>\n",
       "      <td>555.60</td>\n",
       "      <td>1043.10</td>\n",
       "      <td>321.65</td>\n",
       "      <td>1853.40</td>\n",
       "      <td>1933.60</td>\n",
       "      <td>343.95</td>\n",
       "      <td>6051.30</td>\n",
       "    </tr>\n",
       "    <tr>\n",
       "      <th>2019-01-23 00:00:00</th>\n",
       "      <td>488.55</td>\n",
       "      <td>1060.50</td>\n",
       "      <td>229.95</td>\n",
       "      <td>1857.40</td>\n",
       "      <td>1918.40</td>\n",
       "      <td>245.30</td>\n",
       "      <td>5800.10</td>\n",
       "    </tr>\n",
       "    <tr>\n",
       "      <th>2019-01-24 00:00:00</th>\n",
       "      <td>587.30</td>\n",
       "      <td>1152.10</td>\n",
       "      <td>299.15</td>\n",
       "      <td>1900.15</td>\n",
       "      <td>1766.55</td>\n",
       "      <td>419.40</td>\n",
       "      <td>6124.65</td>\n",
       "    </tr>\n",
       "    <tr>\n",
       "      <th>2019-01-25 00:00:00</th>\n",
       "      <td>569.90</td>\n",
       "      <td>1255.90</td>\n",
       "      <td>275.75</td>\n",
       "      <td>2043.55</td>\n",
       "      <td>1673.05</td>\n",
       "      <td>264.60</td>\n",
       "      <td>6082.75</td>\n",
       "    </tr>\n",
       "    <tr>\n",
       "      <th>2019-01-28 00:00:00</th>\n",
       "      <td>639.10</td>\n",
       "      <td>1323.05</td>\n",
       "      <td>231.00</td>\n",
       "      <td>1679.15</td>\n",
       "      <td>1846.05</td>\n",
       "      <td>203.55</td>\n",
       "      <td>5921.90</td>\n",
       "    </tr>\n",
       "    <tr>\n",
       "      <th>2019-01-29 00:00:00</th>\n",
       "      <td>578.10</td>\n",
       "      <td>1128.65</td>\n",
       "      <td>530.25</td>\n",
       "      <td>1641.55</td>\n",
       "      <td>2170.80</td>\n",
       "      <td>231.00</td>\n",
       "      <td>6280.35</td>\n",
       "    </tr>\n",
       "    <tr>\n",
       "      <th>2019-01-30 00:00:00</th>\n",
       "      <td>820.25</td>\n",
       "      <td>1280.40</td>\n",
       "      <td>306.35</td>\n",
       "      <td>2105.75</td>\n",
       "      <td>1941.85</td>\n",
       "      <td>275.75</td>\n",
       "      <td>6730.35</td>\n",
       "    </tr>\n",
       "    <tr>\n",
       "      <th>2019-01-31 00:00:00</th>\n",
       "      <td>586.20</td>\n",
       "      <td>1206.80</td>\n",
       "      <td>150.60</td>\n",
       "      <td>1798.25</td>\n",
       "      <td>1582.60</td>\n",
       "      <td>158.70</td>\n",
       "      <td>5483.15</td>\n",
       "    </tr>\n",
       "    <tr>\n",
       "      <th>Total</th>\n",
       "      <td>13701.10</td>\n",
       "      <td>26272.65</td>\n",
       "      <td>7216.45</td>\n",
       "      <td>42128.25</td>\n",
       "      <td>42969.25</td>\n",
       "      <td>6515.40</td>\n",
       "      <td>138803.10</td>\n",
       "    </tr>\n",
       "  </tbody>\n",
       "</table>\n",
       "</div>"
      ],
      "text/plain": [
       "store                  Boston   Chicago  Las Vegas  New York  San Francisco  \\\n",
       "transaction_date                                                              \n",
       "2019-01-01 00:00:00    465.15   1277.25     269.70   1740.25        1739.20   \n",
       "2019-01-02 00:00:00    621.80   1177.50     369.45   1833.85        1861.45   \n",
       "2019-01-03 00:00:00    449.85   1204.95     302.25   1614.05        1736.20   \n",
       "2019-01-04 00:00:00    600.45   1165.25     340.95   1712.95        1763.75   \n",
       "2019-01-07 00:00:00    599.40   1197.80     395.90   1427.70        1967.20   \n",
       "2019-01-08 00:00:00    698.05    987.05     215.70   2050.40        1866.45   \n",
       "2019-01-09 00:00:00    590.25   1136.80     391.85   1909.30        1971.30   \n",
       "2019-01-10 00:00:00    463.00   1027.80     408.10   1697.50        1714.85   \n",
       "2019-01-11 00:00:00    578.00   1093.90     388.75   1974.45        2116.85   \n",
       "2019-01-14 00:00:00    629.95   1103.25     388.75   2055.85        1939.65   \n",
       "2019-01-15 00:00:00    646.25    804.90     354.20   1875.60        1854.30   \n",
       "2019-01-16 00:00:00    691.10   1038.05     289.00   1872.55        2206.20   \n",
       "2019-01-17 00:00:00    615.60   1293.40     288.95   1608.10        1962.05   \n",
       "2019-01-18 00:00:00    653.30   1035.95     259.55   1873.55        1764.80   \n",
       "2019-01-21 00:00:00    573.95   1278.30     208.65   2002.95        1672.10   \n",
       "2019-01-22 00:00:00    555.60   1043.10     321.65   1853.40        1933.60   \n",
       "2019-01-23 00:00:00    488.55   1060.50     229.95   1857.40        1918.40   \n",
       "2019-01-24 00:00:00    587.30   1152.10     299.15   1900.15        1766.55   \n",
       "2019-01-25 00:00:00    569.90   1255.90     275.75   2043.55        1673.05   \n",
       "2019-01-28 00:00:00    639.10   1323.05     231.00   1679.15        1846.05   \n",
       "2019-01-29 00:00:00    578.10   1128.65     530.25   1641.55        2170.80   \n",
       "2019-01-30 00:00:00    820.25   1280.40     306.35   2105.75        1941.85   \n",
       "2019-01-31 00:00:00    586.20   1206.80     150.60   1798.25        1582.60   \n",
       "Total                13701.10  26272.65    7216.45  42128.25       42969.25   \n",
       "\n",
       "store                Washington DC      Total  \n",
       "transaction_date                               \n",
       "2019-01-01 00:00:00         355.15    5846.70  \n",
       "2019-01-02 00:00:00         326.70    6190.75  \n",
       "2019-01-03 00:00:00         286.95    5594.25  \n",
       "2019-01-04 00:00:00         204.55    5787.90  \n",
       "2019-01-07 00:00:00         265.65    5853.65  \n",
       "2019-01-08 00:00:00         344.05    6161.70  \n",
       "2019-01-09 00:00:00         316.50    6316.00  \n",
       "2019-01-10 00:00:00         247.30    5558.55  \n",
       "2019-01-11 00:00:00         353.25    6505.20  \n",
       "2019-01-14 00:00:00         295.20    6412.65  \n",
       "2019-01-15 00:00:00         319.60    5854.85  \n",
       "2019-01-16 00:00:00         285.95    6382.85  \n",
       "2019-01-17 00:00:00         205.55    5973.65  \n",
       "2019-01-18 00:00:00         266.60    5853.75  \n",
       "2019-01-21 00:00:00         300.15    6036.10  \n",
       "2019-01-22 00:00:00         343.95    6051.30  \n",
       "2019-01-23 00:00:00         245.30    5800.10  \n",
       "2019-01-24 00:00:00         419.40    6124.65  \n",
       "2019-01-25 00:00:00         264.60    6082.75  \n",
       "2019-01-28 00:00:00         203.55    5921.90  \n",
       "2019-01-29 00:00:00         231.00    6280.35  \n",
       "2019-01-30 00:00:00         275.75    6730.35  \n",
       "2019-01-31 00:00:00         158.70    5483.15  \n",
       "Total                      6515.40  138803.10  "
      ]
     },
     "execution_count": 191,
     "metadata": {},
     "output_type": "execute_result"
    }
   ],
   "source": [
    "pivote = pd.pivot_table(df,index=\"transaction_date\",columns=\"store\",values=\"amount\",\n",
    "aggfunc=\"sum\",margins=True,margins_name=\"Total\")\n",
    "pivote"
   ]
  },
  {
   "cell_type": "code",
   "execution_count": 194,
   "metadata": {},
   "outputs": [],
   "source": [
    "pivote.to_csv(\"export/sales_amount.csv\")"
   ]
  },
  {
   "cell_type": "markdown",
   "metadata": {},
   "source": [
    "### Function"
   ]
  },
  {
   "cell_type": "code",
   "execution_count": 1,
   "metadata": {},
   "outputs": [],
   "source": [
    "from datetime import datetime\n",
    "import pandas as pd\n",
    "# print(today)\n",
    "# print(today.month)\n",
    "# print(today.year)\n",
    "#print(convert_month[str(today.month)])\n",
    "\n",
    "def report_sale_amount():\n",
    "    \"\"\"making sale amount daily report from csv\"\"\"\n",
    "    convert_month = {\"1\": \"January\",\n",
    "\"2\":\"February\" }\n",
    "    today = datetime.now()\n",
    "    df = pd.read_excel(f\"data/sales_data/{today.year}/{convert_month[str(today.month)]}.xlsx\")\n",
    "    pivote = pd.pivot_table(df,index=\"transaction_date\",columns=\"store\",values=\"amount\",\n",
    "    aggfunc=\"sum\",margins=True,margins_name=\"Total\")\n",
    "    pivote.to_csv(f\"export/sales_amount_function_{today.year}_{today.month}_{today.day}.csv\")\n",
    "\n",
    "report_sale_amount()"
   ]
  },
  {
   "cell_type": "code",
   "execution_count": 2,
   "metadata": {},
   "outputs": [],
   "source": [
    "from report_daily import report_sale_amount\n",
    "report_sale_amount()"
   ]
  }
 ],
 "metadata": {
  "kernelspec": {
   "display_name": "Python 3.10.9 ('basic_python')",
   "language": "python",
   "name": "python3"
  },
  "language_info": {
   "codemirror_mode": {
    "name": "ipython",
    "version": 3
   },
   "file_extension": ".py",
   "mimetype": "text/x-python",
   "name": "python",
   "nbconvert_exporter": "python",
   "pygments_lexer": "ipython3",
   "version": "3.10.9"
  },
  "orig_nbformat": 4,
  "vscode": {
   "interpreter": {
    "hash": "647c084d20430e00176953302852bedb56ebf3b0ad962badbec07e8fcded4fae"
   }
  }
 },
 "nbformat": 4,
 "nbformat_minor": 2
}
