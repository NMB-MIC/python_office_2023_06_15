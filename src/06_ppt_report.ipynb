{
 "cells": [
  {
   "cell_type": "code",
   "execution_count": null,
   "metadata": {},
   "outputs": [],
   "source": [
    "#!pip install python-pptx"
   ]
  },
  {
   "cell_type": "markdown",
   "metadata": {},
   "source": [
    "## Create Powerpoint"
   ]
  },
  {
   "cell_type": "code",
   "execution_count": 11,
   "metadata": {},
   "outputs": [],
   "source": [
    "from pptx import Presentation\n",
    "from pptx.dml.color import RGBColor\n",
    "from pptx.util import Pt,Inches\n",
    "prs = Presentation()\n",
    "\n",
    "# Create the title slide\n",
    "title_slide_layout = prs.slide_layouts[0]\n",
    "slide = prs.slides.add_slide(title_slide_layout)\n",
    "\n",
    "# Add title\n",
    "title = slide.shapes.title\n",
    "title.text = \"PRODUCTION MONTHLY REPORT\"\n",
    "title.text_frame.paragraphs[0].font.color.rgb = RGBColor(56, 48, 209)\n",
    "title.text_frame.paragraphs[0].font.size = Pt(35)\n",
    "title.text_frame.paragraphs[0].font.name = \"Arial\"\n",
    "title.text_frame.paragraphs[0].font.bold = True\n",
    "title.text_frame.paragraphs[0].font.underline = True\n",
    "\n",
    "subtitle = slide.placeholders[1]\n",
    "subtitle.text = \"MIC division\"\n",
    "subtitle.text_frame.paragraphs[0].font.color.rgb = RGBColor(83, 76, 217)\n",
    "subtitle.text_frame.paragraphs[0].font.size = Pt(20)\n",
    "subtitle.text_frame.paragraphs[0].font.name = \"Arial\"\n",
    "\n",
    "#background\n",
    "background = slide.background\n",
    "fill = background.fill\n",
    "fill.solid()\n",
    "fill.fore_color.rgb = RGBColor(180, 178, 217)\n",
    "\n",
    "# add page 2\n",
    "image_slide_layout = prs.slide_layouts[5] # add layout\n",
    "slide = prs.slides.add_slide(image_slide_layout)\n",
    "\n",
    "title = slide.shapes.title #title\n",
    "title.text = \"Summary result week 1\"\n",
    "\n",
    "summary_week_1 = r'export\\pareto.png' # add a picture\n",
    "left = Inches(1.25)\n",
    "top =  Inches(1.70)\n",
    "pic = slide.shapes.add_picture(summary_week_1,left,top,height=Inches(3.5))\n",
    "\n",
    "\n",
    "# Export\n",
    "prs.save(r'export\\monthly_report.pptx')"
   ]
  }
 ],
 "metadata": {
  "kernelspec": {
   "display_name": "Python 3.11.3 ('python_office')",
   "language": "python",
   "name": "python3"
  },
  "language_info": {
   "codemirror_mode": {
    "name": "ipython",
    "version": 3
   },
   "file_extension": ".py",
   "mimetype": "text/x-python",
   "name": "python",
   "nbconvert_exporter": "python",
   "pygments_lexer": "ipython3",
   "version": "3.11.3"
  },
  "orig_nbformat": 4,
  "vscode": {
   "interpreter": {
    "hash": "3389d59d6185bdb2743c68c14525b686a4ba489ad461a66dec884382969b346d"
   }
  }
 },
 "nbformat": 4,
 "nbformat_minor": 2
}
