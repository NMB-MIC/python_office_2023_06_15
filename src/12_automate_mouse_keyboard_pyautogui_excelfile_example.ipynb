{
 "cells": [
  {
   "cell_type": "markdown",
   "metadata": {},
   "source": [
    "## Example\n",
    "  - downlaod file from website"
   ]
  },
  {
   "cell_type": "code",
   "execution_count": 37,
   "metadata": {},
   "outputs": [],
   "source": [
    "import pyautogui\n",
    "import time\n",
    "from datetime import date\n",
    "import datetime\n",
    "\n",
    "today = date.today()\n",
    "now = datetime.datetime.now()\n",
    "now = str(now.time()).split(\".\")[0].replace(\":\",\"_\")"
   ]
  },
  {
   "cell_type": "code",
   "execution_count": 39,
   "metadata": {},
   "outputs": [
    {
     "data": {
      "text/plain": [
       "Point(x=-2149, y=1595)"
      ]
     },
     "execution_count": 39,
     "metadata": {},
     "output_type": "execute_result"
    }
   ],
   "source": [
    "pyautogui.position()"
   ]
  },
  {
   "cell_type": "code",
   "execution_count": 41,
   "metadata": {},
   "outputs": [],
   "source": [
    "import pyautogui\n",
    "import time\n",
    "from datetime import date\n",
    "import datetime\n",
    "\n",
    "today = date.today()\n",
    "now = datetime.datetime.now()\n",
    "now = str(now.time()).split(\".\")[0].replace(\":\",\"_\")\n",
    "\n",
    "pyautogui.PAUSE = 3\n",
    "\n",
    "\n",
    "pyautogui.rightClick(-2152, 1605)#right click\n",
    "pyautogui.click(-2137, 1373) # new chrome\n",
    "\n",
    "pyautogui.typewrite(\"file-examples.com\")\n",
    "pyautogui.press(\"enter\")\n",
    "\n",
    "pyautogui.click(-904, 423) #sample document\n",
    "pyautogui.click(-765, 1322) # xls button\n",
    "pyautogui.click(-765, 1342) # xls button\n",
    "time.sleep(5)\n",
    "pyautogui.click(91, 1019)\n",
    "pyautogui.click(810, 70)\n",
    "pyautogui.click(25, 37)\n",
    "pyautogui.click(51, 238)\n",
    "pyautogui.click(509, 619)\n",
    "pyautogui.click(503, 53)\n",
    "pyautogui.typewrite(\"D:\\data\")\n",
    "pyautogui.press(\"enter\")\n",
    "pyautogui.click(342, 887)\n",
    "pyautogui.typewrite(f\"data_{str(today)}_{now}.xls\")\n",
    "pyautogui.press(\"enter\")\n",
    "pyautogui.hotkey('alt','f4')\n",
    "pyautogui.hotkey('alt','f4')"
   ]
  }
 ],
 "metadata": {
  "kernelspec": {
   "display_name": "Python 3.11.3 ('python_office')",
   "language": "python",
   "name": "python3"
  },
  "language_info": {
   "codemirror_mode": {
    "name": "ipython",
    "version": 3
   },
   "file_extension": ".py",
   "mimetype": "text/x-python",
   "name": "python",
   "nbconvert_exporter": "python",
   "pygments_lexer": "ipython3",
   "version": "3.11.3"
  },
  "orig_nbformat": 4,
  "vscode": {
   "interpreter": {
    "hash": "3389d59d6185bdb2743c68c14525b686a4ba489ad461a66dec884382969b346d"
   }
  }
 },
 "nbformat": 4,
 "nbformat_minor": 2
}
