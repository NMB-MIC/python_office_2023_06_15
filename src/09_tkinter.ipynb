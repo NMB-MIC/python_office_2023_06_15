{
 "cells": [
  {
   "cell_type": "code",
   "execution_count": null,
   "metadata": {},
   "outputs": [],
   "source": [
    "#!pip install tk"
   ]
  },
  {
   "cell_type": "markdown",
   "metadata": {},
   "source": [
    "## Tkinter"
   ]
  },
  {
   "cell_type": "code",
   "execution_count": null,
   "metadata": {},
   "outputs": [],
   "source": [
    "import tkinter as tk\n",
    "from tkinter import ttk \n",
    "\n",
    "def fahrenheit_to_celsius(f):\n",
    "    \"\"\"convert fahrenhite to celsius\"\"\"\n",
    "    result = round((f - 32) * 5/9,2)\n",
    "    return result\n",
    "\n",
    "# root window\n",
    "window = tk.Tk()\n",
    "window.title(\"Temperature Converter\")\n",
    "window.geometry(\"300x70\")\n",
    "window.resizable(False,False)\n",
    "\n",
    "# frame\n",
    "frame = ttk.Frame(window)\n",
    "\n",
    "# field options\n",
    "options = {'padx':5,'pady':5}\n",
    "\n",
    "# temperature label\n",
    "temperature_label = ttk.Label(frame,text=\"Fahrenheit\")\n",
    "temperature_label.grid(column=0,row=0,**options)\n",
    "\n",
    "# temperatire input box\n",
    "temperature = tk.StringVar()\n",
    "temperature_input = ttk.Entry(frame,textvariable=temperature)\n",
    "temperature_input.grid(column=1,row=0,**options)\n",
    "\n",
    "def convert_button_clicked():\n",
    "    \"\"\"get temperature from entry then convert it\"\"\"\n",
    "    f = float(temperature.get())\n",
    "    c = fahrenheit_to_celsius(f)\n",
    "    result_label.config(text=c)\n",
    "\n",
    "# button\n",
    "convert_button = ttk.Button(frame,text=\"Convert\")\n",
    "convert_button.grid(column=2,row=0,**options)\n",
    "convert_button.configure(command=convert_button_clicked)\n",
    "\n",
    "#result label\n",
    "result_label = ttk.Label(frame,text=\"please input\")\n",
    "result_label.grid(columnspan=3,row=1,**options)\n",
    "\n",
    "# add frame\n",
    "frame.grid(pady=10,padx=10)\n",
    "\n",
    "window.mainloop() #run"
   ]
  },
  {
   "cell_type": "markdown",
   "metadata": {},
   "source": [
    "#### build tkinter to exe"
   ]
  },
  {
   "cell_type": "code",
   "execution_count": null,
   "metadata": {},
   "outputs": [],
   "source": [
    "#!pip install pyinstaller"
   ]
  },
  {
   "cell_type": "code",
   "execution_count": null,
   "metadata": {},
   "outputs": [],
   "source": [
    "!pyinstaller.exe --noconsole temperature_converter.py"
   ]
  }
 ],
 "metadata": {
  "kernelspec": {
   "display_name": "Python 3.11.3 ('python_office')",
   "language": "python",
   "name": "python3"
  },
  "language_info": {
   "codemirror_mode": {
    "name": "ipython",
    "version": 3
   },
   "file_extension": ".py",
   "mimetype": "text/x-python",
   "name": "python",
   "nbconvert_exporter": "python",
   "pygments_lexer": "ipython3",
   "version": "3.11.3"
  },
  "orig_nbformat": 4,
  "vscode": {
   "interpreter": {
    "hash": "3389d59d6185bdb2743c68c14525b686a4ba489ad461a66dec884382969b346d"
   }
  }
 },
 "nbformat": 4,
 "nbformat_minor": 2
}
